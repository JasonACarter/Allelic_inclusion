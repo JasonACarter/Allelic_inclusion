{
 "cells": [
  {
   "cell_type": "markdown",
   "metadata": {},
   "source": [
    "### About\n",
    "\n",
    "This iPython notebook details the derivation of a 3- and 4-parameter likelihood functions. \n",
    "\n",
    "In brief, we wish to model the distribution of $\\alpha$ or $\\beta$ TCR chains observed per droplet during an emulsion-barcoding single-cell sequencing run. As we will see, a 3-parameter model fails to capture the long-tail of the experimental distribution. Consequently, a 4-parameter model, which incorporates an error in loading of cells into droplets, is necessary to accurately capture the expermeintal data. \n",
    "\n",
    "We first consider a minimal 3 parameter model: (1) a Poisson loading process with Poisson paramter $\\lambda$, (2) an allelic inclusion rate with Binomial parameter $f$, and (3) experimental loss of an expressed TCR chain with Binomial paramter $s$. \n",
    "\n",
    "While we ultimately wish to capture experimental distributions, we begin first with a simulated dataset (for which each parameter is known *a priori*):\n"
   ]
  },
  {
   "cell_type": "markdown",
   "metadata": {},
   "source": [
    "### Simulating the emulsion droplet dataset\n",
    "Let's simulate some data $\\{ x_1, x_2, ... , x_N \\}$ where $x_i$ is the number of observed TCR chains in droplet $i$. For our simulation we will carry out the following stochastic procedure for each droplet:\n",
    "- Step 1. Pick a random number of cells to be inserted into droplet $i$ with Poisson parameter $\\lambda$.\n",
    "- Step 2. Randomly assign some of the cells to exhibit allelic inclusion with probability $f$.\n",
    "- Step 3. Randomly lose some of the TCR chains across the cells with probability $s$.\n",
    "- Step 4. Make $x_i$ equal to the number of remaining (*i.e.* experimentally observed) chains."
   ]
  },
  {
   "cell_type": "code",
   "execution_count": 1,
   "metadata": {},
   "outputs": [],
   "source": [
    "from math import factorial as fac\n",
    "import numpy as np\n",
    "import matplotlib.pyplot as plt\n",
    "import seaborn as sns\n",
    "import scipy\n",
    "from scipy import stats, optimize\n",
    "from scipy.stats import rv_discrete\n",
    "import pandas as pd\n",
    "import warnings\n",
    "from numba import jit\n",
    "%matplotlib inline"
   ]
  },
  {
   "cell_type": "code",
   "execution_count": 2,
   "metadata": {},
   "outputs": [],
   "source": [
    "#Simulation code\n",
    "def counts_from_x(x):\n",
    "    \"\"\"\n",
    "    Utility function. \n",
    "    Input list of chains per droplet ({x_0...x_i})\n",
    "    Output vector containing number of droplets containing i chains (V_i=droplets with i chains)\n",
    "    \"\"\"\n",
    "    counts_max=int(np.max(x))       \n",
    "    counts=np.array([np.sum(1*x==i) for i in range(counts_max+1)])\n",
    "    return counts\n",
    "\n",
    "@jit\n",
    "def loop(N,total_cells,allelic,chains,f_real,s_real,x,counts,counts_m):\n",
    "    \"\"\"\n",
    "    Runs simulation. Contains no Python statements to allow use of numba's @jit. \n",
    "    Iterate through N total droplets. For each droplet, consider:\n",
    "    (1) Poisson loading\n",
    "    (2) Binomial allelic inclusion\n",
    "    (3) Binomial chain dropout\n",
    "    Return total number of observed chains for each droplet\n",
    "    \"\"\"    \n",
    "    for t in range(N): #iteratre through N droplets\n",
    "        cells_per_drop=total_cells[t] #cells per droplet\n",
    "        random_allelic=allelic[counts:counts+cells_per_drop] #Assign random number (between 0 and 1) to each droplet\n",
    "        counts=counts+cells_per_drop\n",
    "        m=np.sum(1*(random_allelic<f_real))   #Determine number of allelic inclusion cells in droplet\n",
    "        random_chains=chains[counts_m:counts_m+m+cells_per_drop] #Assign random number to each chain in droplet\n",
    "        counts_m=counts_m+m+cells_per_drop\n",
    "        x[t]=int(np.sum(1*(random_chains>s_real))) #Determine number of observed chains per droplet\n",
    "    return counts_from_x(x) #Return distribution of chains observed per droplet\n",
    "\n",
    "def simulate(N,la,f,s):\n",
    "    \"\"\"\n",
    "    Initiliaze and call simulation. Input:\n",
    "    (1) number of chains to simulate (N)\n",
    "    (2) Possion loading rate (la)\n",
    "    (3) Allelic inclusion rate (f)\n",
    "    (4) Chain dropout rate (s)\n",
    "    \"\"\"\n",
    "    ztp_distribution=[(np.exp(-la)*la**x)/((1-np.exp(-la))*fac(x)) for x in range(1,50)] #zero-truncated poissson distribution\n",
    "    lambdas=rv_discrete(values=(range(1,50),ztp_distribution)).rvs(size=int(N)) #Sample from ZTP\n",
    "    total_cells=lambdas #Number of cells per droplet\n",
    "    allelic=np.random.rand(np.sum(total_cells)) #Random number to determine whether a given cell is allelic inclusion cell\n",
    "    chains=np.random.rand(int(2*np.sum(total_cells))) #Random number to determine whether a given chain is observed\n",
    "    x=np.zeros(N) \n",
    "    counts=loop(N,total_cells,allelic,chains,f,s,x=np.zeros(N),counts=0,counts_m=0)\n",
    "    return counts[:12]"
   ]
  },
  {
   "cell_type": "code",
   "execution_count": 3,
   "metadata": {},
   "outputs": [
    {
     "data": {
      "image/png": "[encoded data removed]",
      "text/plain": [
       "<Figure size 432x288 with 1 Axes>"
      ]
     },
     "metadata": {
      "needs_background": "light"
     },
     "output_type": "display_data"
    }
   ],
   "source": [
    "##Run Simulation\n",
    "\n",
    "#Define simulation parameters\n",
    "N=int(1e6) # number of droplets to simulate\n",
    "la_real=0.08 #Poisson loading rate\n",
    "f_real=0.08 #Allelic inclusion rate\n",
    "s_real=0.5 #TCR chain droupout rate\n",
    "\n",
    "counts=simulate(N,la_real,f_real,s_real) # runs simulation with defined parameters. \n",
    "                                           #counts=number of droplets with x_i TCR chains\n",
    "#Visualize simulated distributions\n",
    "def vis_sim_dist(counts):\n",
    "    plt.bar(range(len(counts)),counts,color='Gray',alpha=0.75)\n",
    "    plt.xlabel('TCR chains per droplet',fontsize=15)\n",
    "    plt.ylabel('Counts',fontsize=15)\n",
    "    plt.yscale('log')\n",
    "    [plt.text(i,counts[i]*1.1,'%d' % counts[i],ha='center',color='k') for i in np.arange(len(counts))]\n",
    "    plt.ylim([1,np.max(counts)*5])\n",
    "    plt.show()\n",
    "    plt.close()\n",
    "vis_sim_dist(counts)"
   ]
  },
  {
   "cell_type": "markdown",
   "metadata": {},
   "source": [
    "## Derivation of likelihood generating function\n",
    "\n",
    "From this distribution of chains/droplet, we wish to infer the following parameters:\n",
    "- $\\lambda$: Poisson rate of cells per droplet\n",
    "- $f$: allelic inclusion rate\n",
    "- $s$: probability of not observing a chain \n",
    "\n",
    "### Modeling a single droplet\n",
    "Here are some of the simpler droplet models that may occur in our experiment:\n",
    "\n",
    "$$\n",
    "\\begin{array}\n",
    "\\\n",
    "p_A&=e^{-\\lambda}& \\hspace{0.5in} \\text{no cell} \\\\\n",
    "p_B&=(1-f) e^{-\\lambda} \\lambda& \\hspace{0.5in} \\text{1 normal cell}\\\\\n",
    "p_C&=f e^{-\\lambda} \\lambda& \\hspace{0.5in} \\text{1 inclusion cell} \\\\\n",
    "p_D&=(1-f)^2 \\displaystyle{\\frac{e^{-\\lambda} \\lambda^2}{2}}& \\hspace{0.5in} \\text{2 normal cells} \\\\\n",
    "p_E&=2f(1-f) \\displaystyle{\\frac{e^{-\\lambda} \\lambda^2}{2}}& \\hspace{0.5in} \\text{1 normal, 1 inclusion} \\\\\n",
    "p_F&=f^2 \\displaystyle{\\frac{e^{-\\lambda} \\lambda^2}{2}}& \\hspace{0.5in} \\text{2 inclusion cells} \\\\\n",
    "p_G&=(1-f)^3 \\displaystyle{\\frac{e^{-\\lambda} \\lambda^3}{6}}& \\hspace{0.5in} \\text{3 normal cells} \\\\\n",
    "p_H&=3f(1-f)^2 \\displaystyle{\\frac{e^{-\\lambda} \\lambda^3}{6}}& \\hspace{0.5in} \\text{2 normal cells, 1 inclusion} \\\\\n",
    "&...&\n",
    "\\end{array}\n",
    "$$\n",
    "\n",
    "We first model the probability of loading a given number of cells ($c$) into a single droplet droplet as a Poisson process:\n",
    "\n",
    "$$\n",
    "\\begin{array}\n",
    "\\\n",
    "p(c|\\lambda)&=&\\displaystyle \\frac{e^{-\\lambda} \\lambda^{c}}{c!} \\hspace{5mm} \\text{for} \\hspace{2mm} c=0,1,2,...\n",
    "\\end{array}\n",
    "$$\n",
    "\n",
    "Note, however, that this distribution includes droplets containing zero cells and thereby zero chains. Without any chains, nothing from these droplets will not be sequenced and consequently are experimentally unobservable. In order to account for this, we instead describe the loading process using a zero-truncated Poisson distrubtion:\n",
    "\n",
    "$$\n",
    "\\begin{array}\n",
    "\\\n",
    "p(c|\\lambda)&=&\\displaystyle \\frac{e^{-\\lambda} \\lambda^{c}}{(1-e^{-\\lambda}) c!} \\hspace{5mm} \\text{for} \\hspace{2mm} c=1,2,...\n",
    "\\end{array}\n",
    "$$\n",
    "\n",
    "In general, a single droplet may have  $m$ inclusion cells and $n$ exclusion (normal) cells. Thus, each droplet has $c=m+n$ total cells, giving us:\n",
    "\n",
    "$$\n",
    "\\begin{array}\n",
    "\\\n",
    "p(n,m|\\lambda)&=&\\displaystyle \\frac{e^{-\\lambda} \\lambda^{m+n}}{(1-e^{-\\lambda})(m+n)!} \\hspace{5mm} \\text{for} \\hspace{2mm} (m+n)\\neq0\n",
    "\\end{array}\n",
    "$$\n",
    "\n",
    "We next model the number of $m$ inclusions cells with a Binomial distribution (probability $f$). Combining this with the Poisson loading process (allelic inclusion is independent of the loading process), we find that the probability of seeing $m$ and $n$ cells in a droplet is:\n",
    "\n",
    "$$\n",
    "\\begin{array}\n",
    "\\\n",
    "p(m,n|\\lambda,f)&=&\\displaystyle \\overbrace{\\frac{e^{-\\lambda} \\lambda^{m+n}}{(1-e^{-\\lambda})(m+n)!}}^{\\text{Poisson distribution}} \\overbrace{\\frac{(m+n)!}{m!n!} f^m (1-f)^n}^{\\text{Binomial distribution}} \\hspace{5mm}\n",
    "\\end{array}\n",
    "$$\n",
    "\n",
    "Simplyfying, we can write:\n",
    "\n",
    "$$\n",
    "\\begin{array}\n",
    "\\\n",
    "p(m,n|\\lambda,f)&=& \\displaystyle \\frac{e^{-\\lambda} \\lambda^{m+n} f^m (1-f)^n}{(1-e^{-\\lambda})m!n!} \\hspace{5mm} \\text{where} \\hspace{2mm} (m+n)\\geq1\n",
    "\\end{array}\n",
    "$$\n",
    "\n",
    "For a droplet loaded with $c$ cells, $n$ of which are normal (express 1 chain) and $m$ of which are allelic inclusion cells (express 2 chains), there are $n+2m$ chains. \n",
    "\n",
    "In practice, however, we will only observe some number $x$ of the $n+2m$ chains present in the droplet. While there are many potential steps at which a chain could potentially be lost (failure to amplify during PCR, failure to sequence above a cutoff depth, etc.), we will assume there is some single probability $s$ of not seeing a chain present the droplet.\n",
    "\n",
    "Additionally, there becomes more than one way to observe $x$ chains per droplet once we allow for the experimental loss of some chains. For example, a droplet with 1 observed chain can be generated with $n$=1 and no dropout or $m$=1 with the loss of one chain. In order to determine the probability of observing $x$ chains in a droplet, we must sum over all the possible ways of generating $n+2m$ chains in a droplet. \n",
    "\n",
    "Thus, the probability of observing $x$ chains is given as:\n",
    "\n",
    "$$\n",
    "\\begin{array}\n",
    "\\\n",
    "p(x|\\lambda,f,s)&=&\\displaystyle \\sum_{m,n} p(x|m,n,\\lambda,f,s) p(m,n|\\lambda,f) \\\\\n",
    "&=&\\displaystyle \\sum_{m,n} p(x|m,n,s) p(m,n|\\lambda,f) \n",
    "\\end{array}\n",
    "$$\n",
    "\n",
    "Observing that $p(m,n|\\lambda,f)$ is given above and modeling the dropout rate with a Binomial distribution with dropout probability $s$, we find that:\n",
    "\n",
    "$$\n",
    "\\begin{array}\n",
    "\\\n",
    "p(x|\\lambda,f,s)&=&\\displaystyle \\sum_{m,n} \\overbrace{\\left( \\frac{(2m+n)!}{(2m+n-x)!x!} s^{2m+n-x}(1-s)^{x} \\right)}^{\\text{Binomial distribution}} \\left( \\frac{e^{-\\lambda} \\lambda^{m+n} f^m (1-f)^n}{(1-e^{-\\lambda})m!n!} \\right)\n",
    "\\end{array}\n",
    "$$\n",
    "\n",
    "Rearranging and again noting that we don't experimentally observe droplets with no cells ($m+n>0$), we arrive at:\n",
    "\n",
    "$$\n",
    "\\begin{array}\n",
    "\\\n",
    "p(x|\\lambda,f,s)&=&\\displaystyle \\frac{(1-s)^x e^{-\\lambda}}{(1-e^{-\\lambda})x!} \\sum_{2m+n \\geq x\\geq1} \\frac{(2m+n)!}{(2m+n-x)!m!n!} s^{2m+n-x} (1-f)^n f^m \\lambda^{m+n}\n",
    "\\end{array}\n",
    "$$\n",
    "\n",
    "\n",
    "\n"
   ]
  },
  {
   "cell_type": "code",
   "execution_count": 4,
   "metadata": {},
   "outputs": [],
   "source": [
    "#Direct implementation of likelihood generating function\n",
    "def px(x,la,f,s,m_max=4,n_max=5):\n",
    "    \"\"\"p(x|lambda,f,s)\n",
    "        x = number of observed chains\n",
    "        la,f,s= proposed values for loading, inclusion, and dropout rates\n",
    "        m_max = max number of inclusion cells in droplet\n",
    "        n_max = max number of normal cells in droplet\n",
    "        \"\"\"     \n",
    "    prefactor=(((1-s)**x)*np.exp(-la))/(fac(x)*(1-np.exp(-la)))\n",
    "    ans=0\n",
    "    for m in range(m_max+1):\n",
    "        for n in range(n_max+1):\n",
    "            if ((2*m)+n)>=x and (m+n)!=0:\n",
    "                ans+=(fac((2*m)+n)*(s**((2*m)+n-x))*((1-f)**n)*(f**m)*(la**(m+n)))/(fac((2*m)+n-x)*fac(m)*fac(n))\n",
    "    return prefactor*ans"
   ]
  },
  {
   "cell_type": "code",
   "execution_count": 5,
   "metadata": {},
   "outputs": [
    {
     "name": "stdout",
     "output_type": "stream",
     "text": [
      "R²= 0.9999968630736131\n"
     ]
    },
    {
     "data": {
      "image/png": "[encoded data removed]",
      "text/plain": [
       "<Figure size 432x288 with 1 Axes>"
      ]
     },
     "metadata": {
      "needs_background": "light"
     },
     "output_type": "display_data"
    }
   ],
   "source": [
    "#Compare simulated vs. model (with real parameters) distributions\n",
    "def sim_v_model(counts):\n",
    "    plt.bar(range(len(counts)),counts/N,width=0.3,label='Simulation',color='k')\n",
    "    plt.bar(np.arange(len(counts))+0.3,[px(i,la_real,f_real,s_real) for i in range(len(counts))],width=0.3,label='Theoretical',color='DarkGray')\n",
    "    stat=stats.linregress(counts,[px(i,la_real,f_real,s_real) for i in range(len(counts))])\n",
    "    print('R\\u00b2=',stat[2]**2)\n",
    "    plt.xlabel('TCR chains per droplet',fontsize=15)\n",
    "    plt.ylabel('Probability',fontsize=15)\n",
    "    plt.yscale('log')\n",
    "    plt.legend(fontsize=15)\n",
    "    plt.show()\n",
    "    plt.close()\n",
    "sim_v_model(counts)"
   ]
  },
  {
   "cell_type": "markdown",
   "metadata": {},
   "source": [
    "### Infering parameters with maximum likelihood estimation\n",
    "\n",
    "We want to use our likelihood generating function to estimate parameters given some experimental dataset.\n",
    "\n",
    "#### Likelihood\n",
    "$$\n",
    "\\begin{array}\n",
    "\\\n",
    "L&=&p({\\rm data }|\\lambda,f,s) \\\\\n",
    "&=&\\displaystyle \\prod_i^N p(x_i|\\lambda,f,s) \\\\\n",
    "&=&\\displaystyle \\prod_i^N \\sum_{2m+n \\geq x_i} \\frac{(2m+n)!}{(2m+n-x_i)!x_i!m!n!} s^{2m+n-x_i} (1-s)^{x_i} (1-f)^n f^m \\lambda^{m+n} e^{-\\lambda}\n",
    "\\end{array}\n",
    "$$\n",
    "#### Log-likelihood\n",
    "$$\n",
    "\\begin{array}\n",
    "\\\n",
    "\\mathcal{L}&=& \\ln p({\\rm data }|\\lambda,f,s) \\\\\n",
    "&=& \\displaystyle \\sum_i^N \\ln p(x_i|\\lambda,f,s) \\\\\n",
    "&=& \\displaystyle \\sum_{t=0}^{\\max(x)} c_t \\ln p(x=t|\\lambda,f,s)\n",
    "\\end{array}\n",
    "$$\n",
    "where $c_t$ is the number of droplets that contain $t$ chains.\n",
    "#### Log-likelihood per datum\n",
    "For large $N$ the log-likelihood of the entire dataset can be a large negative value. It can be convenient to consider the average log-likelihood \n",
    "$$\n",
    "\\begin{array}\n",
    "\\\n",
    "\\mathcal{l}&=& \\displaystyle \\frac{1}{N} \\ln p({\\rm data }|\\lambda,f,s) \\\\\n",
    "&=& \\displaystyle \\frac{1}{N} \\sum_{t=0}^{\\max(x)} c_t \\ln p(x=t|\\lambda,f,s)\n",
    "\\end{array}\n",
    "$$"
   ]
  },
  {
   "cell_type": "code",
   "execution_count": 6,
   "metadata": {},
   "outputs": [],
   "source": [
    "#Code for likelihood\n",
    "def LL(theta):\n",
    "    la,f,s=theta\n",
    "    'Log-likelihood: log p(data|lambda,f,s)'\n",
    "    LL=np.sum([counts[i]*np.log(px(i,la,f,s)) for i in range(0,len(counts))])/np.sum(counts)\n",
    "    return -LL"
   ]
  },
  {
   "cell_type": "code",
   "execution_count": 7,
   "metadata": {},
   "outputs": [],
   "source": [
    "#Optimize likelihood function using scipy.optimize.minimize\n",
    "def optimization(counts,N_random_starts=50):\n",
    "    warnings.simplefilter(action='ignore')\n",
    "    method=['L-BFGS-B','Nelder-Mead']\n",
    "    N_methods=len(method)\n",
    "    for starting in range(N_random_starts):\n",
    "        x0=[np.random.random(1),np.random.random(1),np.random.random(1)]\n",
    "        data=np.empty((N_methods,5),dtype=object)\n",
    "        for it,methods in enumerate(method):\n",
    "            try:\n",
    "                minimum=optimize.minimize(LL,x0,method=methods,bounds=((0,1),(0,1),(0,1)))\n",
    "            except:\n",
    "                minimum=optimize.minimize(LL,x0,method=methods)\n",
    "            data[it]=np.hstack((minimum.x,minimum.fun,methods))\n",
    "\n",
    "        if starting==0:\n",
    "            df=data\n",
    "        else:\n",
    "            df=np.vstack((df,data))\n",
    "    df=pd.DataFrame(df,columns=['la','f','s','energy','method'])\n",
    "    df=df.sort_values(by=['energy'])\n",
    "    df=df[df['energy'].astype(float)>0]\n",
    "    df=df[df.la.astype(float)>0.001]\n",
    "    return df\n",
    "df=optimization(counts,N_random_starts=50)"
   ]
  },
  {
   "cell_type": "code",
   "execution_count": 8,
   "metadata": {},
   "outputs": [
    {
     "data": {
      "image/png": "[encoded data removed]",
      "text/plain": [
       "<Figure size 1080x360 with 1 Axes>"
      ]
     },
     "metadata": {
      "needs_background": "light"
     },
     "output_type": "display_data"
    },
    {
     "name": "stdout",
     "output_type": "stream",
     "text": [
      "Real vs. maximum likelihood estimates\n",
      "Allelic inclusion: Real- 0.080 vs. Estimated- 0.079 (1.4% difference)\n",
      "Lambda: Real- 0.080 vs. Estimated- 0.083 (3.7% difference)\n",
      "Dropout: Real- 0.500 vs. Estimated- 0.501 (0.1% difference)\n",
      "R²= 0.9999999992930861\n"
     ]
    }
   ],
   "source": [
    "def accuracy(counts,df,la_real=None,f_real=None,s_real=None):\n",
    "    N=np.sum(counts)\n",
    "    stat=stats.linregress(counts,[px(i,float(df.iloc[0]['la']),float(df.iloc[0]['f']),float(df.iloc[0]['s'])) for i in range(len(counts))])\n",
    "    plt.figure(figsize=(15,5))\n",
    "    plt.subplot(1,2,1)\n",
    "    plt.bar(range(len(counts)),counts/N,width=0.3,label='Simulation',color='Black')\n",
    "    plt.bar(np.arange(len(counts))+0.3,[px(i,float(df.iloc[0]['la']),float(df.iloc[0]['f']),float(df.iloc[0]['s'])) for i in range(len(counts))],width=0.3,label='Theoretical',color='DarkGray')\n",
    "    plt.xticks(np.arange(len(counts))+0.15,np.arange(len(counts)))\n",
    "    plt.xlabel('Chains per droplet',fontsize=15)\n",
    "    plt.ylabel('probability',fontsize=15)\n",
    "    plt.yscale('log')\n",
    "    plt.legend(fontsize=15)\n",
    "    plt.show()\n",
    "    plt.close()\n",
    "    try:\n",
    "        print('Real vs. maximum likelihood estimates')\n",
    "        print('Allelic inclusion: Real- {:.3f} vs. Estimated- {:.3f} ({:.1f}% difference)'.format(f_real,float(df.iloc[0]['f']),np.absolute((f_real-float(df.iloc[0]['f']))/f_real)*100))\n",
    "        print('Lambda: Real- {:.3f} vs. Estimated- {:.3f} ({:.1f}% difference)'.format(la_real,float(df.iloc[0]['la']),np.absolute((la_real-float(df.iloc[0]['la']))/la_real)*100))\n",
    "        print('Dropout: Real- {:.3f} vs. Estimated- {:.3f} ({:.1f}% difference)'.format(s_real,float(df.iloc[0]['s']),np.absolute((s_real-float(df.iloc[0]['s']))/s_real)*100))\n",
    "        print('R\\u00b2=',stat[2]**2)\n",
    "    except:\n",
    "        print('Real vs. maximum likelihood estimates')\n",
    "        print('Allelic inclusion: Estimated- {:.3f}'.format(float(df.iloc[0]['f'])))\n",
    "        print('Lambda: Estimated- {:.3f}'.format(float(df.iloc[0]['la'])))\n",
    "        print('Dropout: Estimated- {:.3f}'.format(float(df.iloc[0]['s'])))\n",
    "        print('R\\u00b2=',stat[2]**2)\n",
    "\n",
    "accuracy(counts,df,la_real,f_real,s_real)"
   ]
  },
  {
   "cell_type": "markdown",
   "metadata": {},
   "source": [
    "## Fitting alpha and beta distributions together\n",
    "\n",
    "Ideally, it would be possible to fit the joint distribution of alpha and beta chains (*i.e.* model the frequency of droplets containing $x_\\alpha$ TCR$\\alpha$ and $x_\\beta$ TCR$\\beta$ chains). That is, while we are currently solving the following single-chain inference problem:\n",
    "\n",
    "$$\n",
    "\\begin{array}\n",
    "\\\n",
    "L&=&p({\\rm data }|\\lambda,f,s) \n",
    "\\end{array}\n",
    "$$\n",
    "\n",
    "where data is either the experimental $\\alpha$ **or** $\\beta$ TCR chain distributions. Ideally, we would solve:\n",
    "\n",
    "$$\n",
    "\\begin{array}\n",
    "\\\n",
    "L&=&p({\\rm data_\\alpha, data_\\beta }|\\lambda,f_\\alpha,f_\\beta,s_\\alpha,s_\\beta) \n",
    "\\end{array}\n",
    "$$\n",
    "\n",
    "We here note that while the allelic inclusion rate $f$ and dropout rate $s$ may vary between chain types, the loading rate of cells remains constant for each chain type. While it is highly unlikely that the capture $\\alpha$ and $\\beta$ chains are truly independent, we nevertheless make the simplyfing assumption of conditional independence. Thus, \n",
    "\n",
    "$$\n",
    "\\begin{array}\n",
    "\\\n",
    "L&=&p({\\rm data_\\alpha, data_\\beta }|\\lambda,f_\\alpha,f_\\beta,s_\\alpha,s_\\beta)\n",
    "L &\\approx& p({\\rm data_\\alpha }|\\lambda,f_\\alpha,s_\\alpha) \\cdot p({\\rm data_\\beta}|\\lambda,f_\\beta,s_\\beta)\n",
    "\\end{array}\n",
    "$$\n",
    "\n",
    "And the log likelihood becomes:\n",
    "\n",
    "$$\n",
    "\\begin{array}\n",
    "\\\n",
    "\\mathcal{L}&=& \\displaystyle\\sum_{t=0}^{\\max(x)}  \\left(c_{t,\\alpha} \\ln p(x_\\alpha=t|\\lambda,f_\\alpha,s_\\alpha) + c_{t,\\beta} \\ln  p(x_\\beta=t|\\lambda,f_\\beta,s_\\beta)\\right)\n",
    "\\end{array}\n",
    "$$\n",
    "\n",
    "\n",
    "Let's simulate new alpha and beta distributions with same loading parameter:"
   ]
  },
  {
   "cell_type": "code",
   "execution_count": 9,
   "metadata": {},
   "outputs": [],
   "source": [
    "#Simulate alpha and beta distributions with same loading parameter\n",
    "counts_alpha=counts\n",
    "f_real_a=f_real\n",
    "s_real_a=s_real\n",
    "\n",
    "N_b=int(6e5) # number of droplets to simulate\n",
    "la_real=0.08 #Poisson loading rate\n",
    "f_real_b=0.04 #Allelic inclusion rate\n",
    "s_real_b=0.35 #TCR chain droupout rate\n",
    "counts_beta=simulate(N_b,la_real,f_real_b,s_real_b)"
   ]
  },
  {
   "cell_type": "code",
   "execution_count": 10,
   "metadata": {},
   "outputs": [],
   "source": [
    "#Paired likelihood function\n",
    "def LL_opt_paired(params):\n",
    "    la,f_a,s_a,f_b,s_b=params\n",
    "    'Log-likelihood: log p(data|lambda,f,s)'\n",
    "    LLa=np.sum([counts_alpha[i]*np.log(px(i,la,f_a,s_a)) for i in range(0,len(counts_alpha))])/np.sum(counts_alpha)\n",
    "    LLb=np.sum([counts_beta[i]*np.log(px(i,la,f_b,s_b)) for i in range(0,len(counts_beta))])/np.sum(counts_beta)\n",
    "    return (-LLa)+(-LLb)"
   ]
  },
  {
   "cell_type": "code",
   "execution_count": 11,
   "metadata": {},
   "outputs": [],
   "source": [
    "#Redefine optimization function for alpha/beta distributions with same lambda\n",
    "def optimization_paired(counts_alpha,counts_beta,N_random_starts=50):\n",
    "    warnings.simplefilter(action='ignore')\n",
    "    method=['TNC','SLSQP','L-BFGS-B','Nelder-Mead']\n",
    "    N_methods=len(method)\n",
    "    for starting in range(N_random_starts):\n",
    "        data=np.empty((N_methods,7),dtype=object)\n",
    "        for it,methods in enumerate(method):\n",
    "            x0=[np.random.random(1),np.random.random(1),np.random.random(1),np.random.random(1),np.random.random(1)]\n",
    "            try:\n",
    "                minimum=optimize.minimize(LL_opt_paired,x0,method=methods,bounds=((0,1),(0,1),(0,1)))\n",
    "            except:\n",
    "                minimum=optimize.minimize(LL_opt_paired,x0,method=methods)\n",
    "            data[it]=np.hstack((minimum.x,minimum.fun,methods))\n",
    "        if starting==0:\n",
    "            df=data\n",
    "        else:\n",
    "            df=np.vstack((df,data))\n",
    "    df=pd.DataFrame(df,columns=['la','f_a','s_a','f_b','s_b','energy','method'])\n",
    "    df=df.sort_values(by=['energy'])\n",
    "    df=df[df['energy'].astype(float)>0]\n",
    "    df=df[df.la.astype(float)>0.001]\n",
    "    return df"
   ]
  },
  {
   "cell_type": "code",
   "execution_count": 12,
   "metadata": {},
   "outputs": [],
   "source": [
    "df=optimization_paired(counts_alpha,counts_beta,N_random_starts=50)"
   ]
  },
  {
   "cell_type": "code",
   "execution_count": 13,
   "metadata": {},
   "outputs": [],
   "source": [
    "def accuracy_paired(counts_alpha,counts_beta,df,simulate=1):\n",
    "    names=['Alpha','Beta']\n",
    "    rowname_f=['f_a','f_b']\n",
    "    rowname_s=['s_a','s_b']\n",
    "    if simulate==1:\n",
    "        s_real=[s_real_a,s_real_b]\n",
    "        f_real=[f_real_a,f_real_b]\n",
    "    plt.figure(figsize=(15,5))\n",
    "    for j,counts in enumerate([counts_alpha,counts_beta]):\n",
    "        N=np.sum(counts)\n",
    "        stat=stats.linregress(counts,[px(i,float(df.iloc[0]['la']),float(df.iloc[0][rowname_f[j]]),float(df.iloc[0][rowname_s[j]])) for i in range(len(counts))])\n",
    "        plt.subplot(1,2,j+1)\n",
    "        plt.bar(range(len(counts)),counts/N,width=0.3,label='Simulation',color='Black')\n",
    "        plt.bar(np.arange(len(counts))+0.3,[px(i,float(df.iloc[0]['la']),float(df.iloc[0][rowname_f[j]]),float(df.iloc[0][rowname_s[j]])) for i in range(len(counts))],width=0.3,label='Theoretical',color='DarkGray')\n",
    "        plt.xticks(np.arange(len(counts))+0.15,np.arange(len(counts)))\n",
    "        plt.xlabel(f'{names[j]} chains per droplet',fontsize=15)\n",
    "        plt.ylabel('probability',fontsize=15)\n",
    "        plt.yscale('log')\n",
    "        plt.legend(fontsize=15)\n",
    "        \n",
    "        print(f'{names[j]} Real vs. Maximum likelihood estimates')\n",
    "        \n",
    "        if simulate==1:\n",
    "            try:\n",
    "                print('Allelic inclusion: Real- {:.3f} vs. Estimated- {:.3f} ({:.1f}% difference)'.format(f_real[j],float(df.iloc[0][rowname_f[j]]),np.absolute((f_real[j]-float(df.iloc[0][rowname_f[j]]))/f_real[j])*100))\n",
    "                print('Lambda: Real- {:.3f} vs. Estimated- {:.3f} ({:.1f}% difference)'.format(la_real,float(df.iloc[0]['la']),np.absolute((la_real-float(df.iloc[0]['la']))/la_real)*100))\n",
    "                print('Dropout: Real- {:.3f} vs. Estimated- {:.3f} ({:.1f}% difference)'.format(s_real[j],float(df.iloc[0][rowname_s[j]]),np.absolute((s_real[j]-float(df.iloc[0][rowname_s[j]]))/s_real[j])*100))\n",
    "                print('R\\u00b2=',stat[2]**2)\n",
    "            except: \n",
    "                print('Allelic inclusion: Estimated- {:.3f}'.format(float(df.iloc[0][rowname_f[j]])))\n",
    "                print('Lambda: Estimated- {:.3f}'.format(float(df.iloc[0]['la'])))\n",
    "                print('Dropout: Estimated- {:.3f}'.format(float(df.iloc[0][rowname_s[j]])))\n",
    "                print('R\\u00b2=',stat[2]**2)\n",
    "        else:\n",
    "            print('Allelic inclusion: Estimated- {:.3f}'.format(float(df.iloc[0][rowname_f[j]])))\n",
    "            print('Lambda: Estimated- {:.3f}'.format(float(df.iloc[0]['la'])))\n",
    "            print('Dropout: Estimated- {:.3f}'.format(float(df.iloc[0][rowname_s[j]])))\n",
    "            print('R\\u00b2=',stat[2]**2)\n",
    "        print('\\n')\n",
    "    plt.show()\n",
    "    plt.close()"
   ]
  },
  {
   "cell_type": "code",
   "execution_count": 14,
   "metadata": {},
   "outputs": [
    {
     "name": "stdout",
     "output_type": "stream",
     "text": [
      "Alpha Real vs. Maximum likelihood estimates\n",
      "Allelic inclusion: Real- 0.080 vs. Estimated- 0.081 (1.3% difference)\n",
      "Lambda: Real- 0.080 vs. Estimated- 0.079 (1.3% difference)\n",
      "Dropout: Real- 0.500 vs. Estimated- 0.501 (0.2% difference)\n",
      "R²= 0.9999999894297049\n",
      "\n",
      "\n",
      "Beta Real vs. Maximum likelihood estimates\n",
      "Allelic inclusion: Real- 0.040 vs. Estimated- 0.041 (3.4% difference)\n",
      "Lambda: Real- 0.080 vs. Estimated- 0.079 (1.3% difference)\n",
      "Dropout: Real- 0.350 vs. Estimated- 0.349 (0.2% difference)\n",
      "R²= 0.9999999824557638\n",
      "\n",
      "\n"
     ]
    },
    {
     "data": {
      "image/png": "[encoded data removed]",
      "text/plain": [
       "<Figure size 1080x360 with 2 Axes>"
      ]
     },
     "metadata": {
      "needs_background": "light"
     },
     "output_type": "display_data"
    }
   ],
   "source": [
    "accuracy_paired(counts_alpha,counts_beta,df)"
   ]
  },
  {
   "cell_type": "markdown",
   "metadata": {},
   "source": [
    "## Experimental distributions\n",
    "\n",
    "Clearly, our likelihood model does not capture the long-tail of our experimental distributions."
   ]
  },
  {
   "cell_type": "code",
   "execution_count": 15,
   "metadata": {},
   "outputs": [],
   "source": [
    "counts_alpha=np.array([818819, 795095, 73104, 7880, 1560, 558, 212, 131, 67, 46, 24, 12, 16, 11, 3, 3, 1, 1, 3, 1, 1, 2])\n",
    "counts_beta=np.array([602628, 989821, 90413, 10733, 2261, 762, 376, 224, 116, 75, 54, 25, 14, 18, 10, 4, 5, 1, 1, 5, 2, 1, 1])\n",
    "\n",
    "counts_alpha=counts_alpha[:12]\n",
    "counts_beta=counts_beta[:12]"
   ]
  },
  {
   "cell_type": "code",
   "execution_count": 16,
   "metadata": {},
   "outputs": [
    {
     "name": "stdout",
     "output_type": "stream",
     "text": [
      "Alpha Real vs. Maximum likelihood estimates\n",
      "Allelic inclusion: Estimated- 0.093\n",
      "Lambda: Estimated- 0.271\n",
      "Dropout: Estimated- 0.539\n",
      "R²= 0.9998858497533996\n",
      "\n",
      "\n",
      "Beta Real vs. Maximum likelihood estimates\n",
      "Allelic inclusion: Estimated- 0.050\n",
      "Lambda: Estimated- 0.271\n",
      "Dropout: Estimated- 0.399\n",
      "R²= 0.9996331911454932\n",
      "\n",
      "\n"
     ]
    },
    {
     "data": {
      "image/png": "[encoded data removed]",
      "text/plain": [
       "<Figure size 1080x360 with 2 Axes>"
      ]
     },
     "metadata": {
      "needs_background": "light"
     },
     "output_type": "display_data"
    }
   ],
   "source": [
    "#Same lambda\n",
    "df=optimization_paired(counts_alpha,counts_beta,N_random_starts=50)\n",
    "accuracy_paired(counts_alpha,counts_beta,df,simulate=0)"
   ]
  },
  {
   "cell_type": "markdown",
   "metadata": {},
   "source": [
    "## Addressing the long-tail of the experimental distributions\n"
   ]
  },
  {
   "cell_type": "markdown",
   "metadata": {},
   "source": [
    "Clearly, our current maximum-likelihood estimation method fails to capture the distribution's long tail ($\\geq\\sim$4 chains per droplet). Biologically, the number of (either $\\alpha$ or $\\beta$) chains per cell is capped at 2 alleles, and consequently all droplets with more than 2 chains come from experimental errors ($\\textit{e.g.}$ multiple cells per droplet, degeneracy in droplet barcodes, $\\textit{etc.}$). \n",
    "\n",
    "Recall that under our current model, we model the loading ($L$) of cells in droplets as a single Poisson process (experimentally measure to have a mean of $\\sim$0.2 cells per droplet). As droplets without cells are unobserved, we augmented this as a zero-truncated Poisson, such that the loading of normal ($n$) and allelic inclusion ($m$) cells is given as:\n",
    "\n",
    "$$\n",
    "\\begin{array}\n",
    "\\\n",
    "p_{L}(n,m|\\lambda)&=&\\displaystyle \\frac{e^{-\\lambda} \\lambda^{m+n}}{(1-e^{-\\lambda})(m+n)!} \\hspace{5mm} \\text{for} \\hspace{2mm} (m+n)\\neq0\n",
    "\\end{array}\n",
    "$$\n",
    "\n",
    "In order to account for the long tail seen in the experimental distributions, we add an additional loading term which follows a power-law distribution. Specifically, we model the experimental error ($E$) of adding additinal cells to each droplet. We empirically model this error loading term with the PDF:\n",
    "\n",
    "$$\n",
    "\\begin{array}\n",
    "\\\n",
    "p_E(n,m|\\gamma)&=&\\displaystyle \\frac{(m+n)^{-\\gamma}}{\\zeta(\\gamma,(m+n)_{min})} &=&\\displaystyle \\frac{(m+n)^{-\\gamma}}{\\sum\\limits_{k=0}^{\\infty}  (k+(m+n)_{min})^{-\\gamma}} \\hspace{5mm} \\text{for} \\hspace{2mm} (m+n)\\geq1\n",
    "\\end{array}\n",
    "$$\n",
    "\n",
    "However, we expect that, in most cases, the error term is not present and thus does contribute to the number of cells per droplet ($\\textit{i.e.}$ $m+n=0$ in most cases). We thus modify the power law distribution to begin at 0, such that: \n",
    "\n",
    "$$\n",
    "\\begin{array}\n",
    "\\\n",
    "p_{E}(n,m|\\gamma)&=&\\displaystyle \\frac{(m+n+1)^{-\\gamma}}{\\zeta(\\gamma,1)} \\hspace{5mm} \\text{for} \\hspace{2mm} (m+n)\\geq0\n",
    "\\end{array}\n",
    "$$\n",
    "\n",
    "Observe that $p_{L}$ and $p_{E}$ are discrete distributions. We now wish to define some new discrete distribution ($p_{T}$), such that T=L+E. Recall that the convolution of two discrete distributions is given in the general form:\n",
    "\n",
    "$$\n",
    "\\begin{array}\n",
    "\\\n",
    "p_{T}(z)&=&\\displaystyle \\sum\\limits_{k=-\\infty}^{\\infty} p_{L}(k)p_{E}(z-k)\n",
    "\\end{array}\n",
    "$$\n",
    "\n",
    "Given that $p_L$ is defined only for over the interval \\[1,$\\infty$\\] and $p_E$ is defined only for over the interval \\[0,$\\infty$\\], we find that:\n",
    "\n",
    "$$\n",
    "\\begin{array}\n",
    "\\\n",
    "p_{T}(z)&=&\\displaystyle \\sum\\limits_{k=1}^{z} p_{L}(k)p_{C}(z-k) \\hspace{5mm} \\text{for} \\hspace{2mm} z\\geq1\n",
    "\\end{array}\n",
    "$$\n",
    "\n",
    "And for $m$ and $n$ cells:\n",
    "\n",
    "$$\n",
    "\\begin{array}\n",
    "\\\n",
    "p_{T}(n,m|\\lambda,\\gamma)&=&\\displaystyle \\sum\\limits_{k=1}^{n+m} p_{L}(k)p_{C}(n+m+1-k)&=&\\displaystyle \\sum\\limits_{k=1}^{n+m} \\frac{e^{-\\lambda} \\lambda^{k}}{(1-e^{-\\lambda})(k)!} \\frac{(n+m+1-k)^{-\\gamma}}{\\zeta(\\gamma,1)} \\hspace{5mm} \\text{for} \\hspace{2mm} (n+m)\\geq1\n",
    "\\end{array}\n",
    "$$\n",
    "\n",
    "Reducing:\n",
    "\n",
    "$$\n",
    "\\begin{array}\n",
    "\\\n",
    "p_{T}(n,m|\\lambda,\\gamma)&=&\\displaystyle \\sum\\limits_{k=1}^{n+m} \\frac{e^{-\\lambda} \\lambda^{k}(n+m+1-k)^{-\\gamma}}{(1-e^{-\\lambda})\\zeta(\\gamma,1)k!}\\hspace{5mm} \\text{for} \\hspace{2mm} (n+m)\\geq1\n",
    "\\end{array}\n",
    "$$\n",
    "\n",
    "Incorporating allelic inclusion ($f$) and dropout ($s$), the probability of observing $x$ chains in a given droplet is given as:\n",
    "\n",
    "$$\n",
    "\\begin{array}\n",
    "\\\n",
    "p(x|\\lambda,\\gamma,f,s)&=&\\displaystyle \\sum_{m,n}  \\overbrace{\\left(\\sum\\limits_{k=1}^{n+m} \\frac{e^{-\\lambda} \\lambda^{k}(n+m+1-k)^{-\\gamma}}{(1-e^{-\\lambda})\\zeta(\\gamma,1)k!}\\right)}^{\\text{Cell Loading}} \\overbrace{\\left(\\frac{(m+n)!}{m!n!} f^m (1-f)^n\\right)}^{\\text{Inclusion rate}} \\overbrace{\\left( \\frac{(2m+n)!}{(2m+n-x)!x!} s^{2m+n-x}(1-s)^{x} \\right)}^{\\text{Binomial distribution}}\n",
    "\\end{array}\n",
    "$$\n",
    "\n",
    "\n",
    "Simplifying yields: \n",
    "\n",
    "$$\n",
    "\\begin{array}\n",
    "\\\n",
    "p(x|\\lambda,\\gamma,f,s)&=&\\displaystyle \\frac{e^{-\\lambda}(1-s)^x}{(1-e^{-\\lambda})\\zeta(\\gamma,1)x!} \\sum_{2m+n \\geq x\\geq1} \\left(\\sum\\limits_{k=1}^{n+m} \\frac{\\lambda^{k}(n+m+1-k)^{-\\gamma}}{k!}\\right)\\left(\\frac{(m+n)!f^{m}(1-f)^{n}(2m+n)!s^{2m+n-x}}{(2m+n-x)!m!n!}\\right)\n",
    "\\end{array}\n",
    "$$"
   ]
  },
  {
   "cell_type": "code",
   "execution_count": 17,
   "metadata": {},
   "outputs": [],
   "source": [
    "#4 parameter simulation\n",
    "def simulate(N,la,ga,f,s):\n",
    "    \"\"\"\n",
    "    Update simulate def from 3 parameter model.\n",
    "    Now includes error loading term (ga)\n",
    "    \"\"\"\n",
    "    ztp_distribution=[(np.exp(-la)*la**x)/((1-np.exp(-la))*fac(x)) for x in range(1,50)] #zero-truncated poissson (ZTP) distribution\n",
    "    lambdas=rv_discrete(values=(range(1,50),ztp_distribution)).rvs(size=int(N)) #Sample from ZTP\n",
    "    power_distribution=[(x**-ga)/(scipy.special.zeta(ga)) for x in range(1,50)] #Power law distribution\n",
    "    powers = (rv_discrete(values=(range(1,50),power_distribution)).rvs(size=int(N)))-1 #Sample from power law\n",
    "    total_cells=lambdas+powers #Number of cells per droplet\n",
    "    allelic=np.random.rand(np.sum(total_cells)) #Random number to determine whether a given cell is allelic inclusion cell\n",
    "    chains=np.random.rand(int(2*np.sum(total_cells))) #Random number to determine whether a given chain is observed\n",
    "    x=np.zeros(N) \n",
    "    counts=loop(N,total_cells,allelic,chains,f,s,x=np.zeros(N),counts=0,counts_m=0)\n",
    "    return counts[:12]"
   ]
  },
  {
   "cell_type": "markdown",
   "metadata": {},
   "source": [
    "## Accuracy of 3 parameter model on dataset simulated with full model\n",
    "\n",
    "In addition to not qualitatively capturing the experimental distributions, datasets simulated using 4-parameters to capture the long-tail are not accurately captured by the 3-parameter model."
   ]
  },
  {
   "cell_type": "code",
   "execution_count": 18,
   "metadata": {},
   "outputs": [],
   "source": [
    "#Simulate paired distributions using 4 param model\n",
    "\n",
    "#Define alpha and beta common parameters\n",
    "N=int(2e6) # number of droplets\n",
    "la_real=0.08 #Poisson loading rate\n",
    "ga_real=4.15 #Power law exponent error rate\n",
    "\n",
    "#Run alpha simulation\n",
    "f_real_a=0.083\n",
    "s_real_a=0.53\n",
    "counts=simulate(N,la_real,ga_real,f_real,s_real) \n",
    "counts_alpha=counts[:12]\n",
    "\n",
    "#Run beta simulation\n",
    "f_real_b=0.043 \n",
    "s_real_b=0.39 \n",
    "counts=simulate(N,la_real,ga_real,f_real_b,s_real_b)\n",
    "counts_beta=counts[:12]"
   ]
  },
  {
   "cell_type": "code",
   "execution_count": 19,
   "metadata": {},
   "outputs": [
    {
     "name": "stdout",
     "output_type": "stream",
     "text": [
      "Alpha Real vs. Maximum likelihood estimates\n",
      "Allelic inclusion: Real- 0.083 vs. Estimated- 0.086 (3.9% difference)\n",
      "Lambda: Real- 0.080 vs. Estimated- 0.271 (238.3% difference)\n",
      "Dropout: Real- 0.530 vs. Estimated- 0.506 (4.5% difference)\n",
      "R²= 0.9998713945186438\n",
      "\n",
      "\n",
      "Beta Real vs. Maximum likelihood estimates\n",
      "Allelic inclusion: Real- 0.043 vs. Estimated- 0.050 (16.5% difference)\n",
      "Lambda: Real- 0.080 vs. Estimated- 0.271 (238.3% difference)\n",
      "Dropout: Real- 0.390 vs. Estimated- 0.397 (1.9% difference)\n",
      "R²= 0.9996336190406954\n",
      "\n",
      "\n"
     ]
    },
    {
     "data": {
      "image/png": "[encoded data removed]",
      "text/plain": [
       "<Figure size 1080x360 with 2 Axes>"
      ]
     },
     "metadata": {
      "needs_background": "light"
     },
     "output_type": "display_data"
    }
   ],
   "source": [
    "#Run 3 parameter model on dataset generated with 4 parameter model\n",
    "df=optimization_paired(counts_alpha,counts_beta,N_random_starts=50)\n",
    "accuracy_paired(counts_alpha,counts_beta,df,simulate=1)"
   ]
  },
  {
   "cell_type": "markdown",
   "metadata": {},
   "source": [
    "## Infereing parameters from full model\n",
    "\n",
    "As seen above, fitting of a simulated full distribution using a 3 parameter model results in a relatively large error in the inferred allelic inclusion rate. To address this, we next expanded our statistical model to infer the 'error' loading rate. As before, we begin by simulate alpha and beta distributions:"
   ]
  },
  {
   "cell_type": "code",
   "execution_count": 20,
   "metadata": {},
   "outputs": [],
   "source": [
    "#Simulate alpha and beta distributions with same loading parameter\n",
    "N=int(2e6) # number of droplets\n",
    "la_real=0.08 #Poisson loading rate\n",
    "ga_real=4.15 #Power law exponent error rate\n",
    "\n",
    "f_real_a=0.083\n",
    "s_real_a=0.53\n",
    "counts=simulate(N,la_real,ga_real,f_real_a,s_real_a) \n",
    "counts_alpha=counts[:12]\n",
    "\n",
    "f_real_b=0.043 #Allelic inclusion rate\n",
    "s_real_b=0.39 #TCR chain droupout rate\n",
    "counts=simulate(N,la_real,ga_real,f_real_b,s_real_b)\n",
    "counts_beta=counts[:12]"
   ]
  },
  {
   "cell_type": "markdown",
   "metadata": {},
   "source": [
    "## Updating the likelihood function\n",
    "#### Likelihood\n",
    "$$\n",
    "\\begin{array}\n",
    "\\\n",
    "L&=&p({\\rm data }|\\lambda,f,\\gamma,s) \\\\\n",
    "&=&\\displaystyle \\prod_i^N p(x_i|\\lambda,f,\\gamma,s) \\\\\n",
    "&=&\\displaystyle \\prod_i^N \\frac{e^{-\\lambda}(1-s)^x}{(1-e^{-\\lambda})\\zeta(\\gamma,1)x!} \\sum_{2m+n \\geq x_i\\geq1} \\left(\\sum\\limits_{k=1}^{n+m} \\frac{\\lambda^{k}(n+m+1-k)^{-\\gamma}}{k!}\\right)\\left(\\frac{(m+n)!f^{m}(1-f)^{n}(2m+n)!s^{2m+n-x}}{(2m+n-x)!m!n!}\\right)\n",
    "\\end{array}\n",
    "$$\n",
    "#### Log-likelihood\n",
    "$$\n",
    "\\begin{array}\n",
    "\\\n",
    "\\mathcal{L}&=& \\ln p({\\rm data }|\\lambda,f,\\gamma,s) \\\\\n",
    "&=& \\displaystyle \\sum_i^N \\ln p(x_i|\\lambda,f,\\gamma,s) \\\\\n",
    "&=& \\displaystyle \\sum_{t=0}^{\\max(x)} c_t \\ln p(x=t|\\lambda,f,\\gamma,s)\n",
    "\\end{array}\n",
    "$$\n",
    "where $c_t$ is the number of droplets that contain $t$ chains.\n",
    "#### Log-likelihood per datum\n",
    "For large $N$ the log-likelihood of the entire dataset can be a large negative value. It can be convenient to consider the average log-likelihood \n",
    "$$\n",
    "\\begin{array}\n",
    "\\\n",
    "\\mathcal{l}&=& \\displaystyle \\frac{1}{N} \\ln p({\\rm data }|\\lambda,f,\\gamma.s) \\\\\n",
    "&=& \\displaystyle \\frac{1}{N} \\sum_{t=0}^{\\max(x)} c_t \\ln p(x=t|\\lambda,f,\\gamma,s)\n",
    "\\end{array}\n",
    "$$\n",
    "\n",
    "#### Fitting the $\\alpha$ and $\\beta$ chains together\n",
    "\n",
    "As before, the log likelihood becomes:\n",
    "\n",
    "$$\n",
    "\\begin{array}\n",
    "\\\n",
    "\\mathcal{L}&=& \\displaystyle\\sum_{t=0}^{\\max(x)}  \\left(c_{t,\\alpha} \\ln p(x_\\alpha=t|\\lambda,\\gamma,f_\\alpha,s_\\alpha) + c_{t,\\beta} \\ln  p(x_\\beta=t|\\lambda,\\gamma,f_\\beta,s_\\beta)\\right)\n",
    "\\end{array}\n",
    "$$"
   ]
  },
  {
   "cell_type": "code",
   "execution_count": 21,
   "metadata": {},
   "outputs": [],
   "source": [
    "#Optimized implementation of 4-parameter likelihood function\n",
    "def p_poisson(x,la):\n",
    "    return ((la**x))/((fac(x)))\n",
    "def p_binomial_inclusion(n,m,f):\n",
    "    return (fac(n+m)*(f**m)*((1-f)**n))/(fac(n)*fac(m))\n",
    "def inclusion_probabilities(n_max,m_max,f):\n",
    "    inclusions=np.zeros((n_max,m_max))\n",
    "    for n in range(n_max):\n",
    "        for m in range(m_max):\n",
    "            inclusions[n,m]=p_binomial_inclusion(n,m,f)\n",
    "    return inclusions\n",
    "def p_binomial_dropout(total_chains,x,s):\n",
    "    try:\n",
    "        return ((fac(total_chains))*(s**(total_chains-x)))/(fac(total_chains-x))\n",
    "    except:\n",
    "        return 0\n",
    "def p_loading_power(x,ga):\n",
    "    return ((x)**(-ga))\n",
    "def p_loading_convolution(x,la,ga):\n",
    "    prop=0\n",
    "    for k in range(1,x+1):\n",
    "        prop=prop+(p_poisson(k,la)*p_loading_power(x+1-k,ga))\n",
    "    return prop\n",
    "def p_observing_x_chains(x,la,f,s,ga,loading,inclusion,pre,n_max=20,m_max=10):\n",
    "    prefactor=pre*(((1-s)**x)/(fac(x)))\n",
    "    dropout=[p_binomial_dropout(chains,x,s) for chains in range(n_max+2*m_max+1)]\n",
    "    total=0\n",
    "    for n in range(n_max):\n",
    "        for m in range(m_max):\n",
    "            if 2*m+n>=x and (m+n)!=0:\n",
    "                total=total+(loading[n+m]*inclusion[n,m]*dropout[2*m+n])\n",
    "    return prefactor*total"
   ]
  },
  {
   "cell_type": "code",
   "execution_count": 22,
   "metadata": {},
   "outputs": [],
   "source": [
    "#Updated likelihood \n",
    "def LL(theta):\n",
    "    la,ga,f_a,s_a,f_b,s_b=theta\n",
    "    n_max=20\n",
    "    m_max=10\n",
    "    pre=(np.exp(-la))/((1-np.exp(-la))*scipy.special.zeta(ga))\n",
    "    loadings=[p_loading_convolution(chains,la,ga) for chains in range(n_max+m_max+1)]\n",
    "    inclusions_a=inclusion_probabilities(n_max,m_max,f_a)\n",
    "    alpha=np.sum([counts_alpha[i]*np.log(p_observing_x_chains(i,la,f_a,s_a,ga,loadings,inclusions_a,pre,n_max,m_max)) for i in range(0,len(counts_alpha))])\n",
    "    inclusions_b=inclusion_probabilities(n_max,m_max,f_b)\n",
    "    beta=np.sum([counts_beta[i]*np.log(p_observing_x_chains(i,la,f_b,s_b,ga,loadings,inclusions_b,pre,n_max,m_max)) for i in range(0,len(counts_beta))])\n",
    "    return alpha+beta"
   ]
  },
  {
   "cell_type": "code",
   "execution_count": 23,
   "metadata": {},
   "outputs": [],
   "source": [
    "#Redefine optimization function for alpha/beta distributions with same lambda\n",
    "def optimization_paired(counts_alpha,counts_beta,N_random_starts=50):\n",
    "    warnings.simplefilter(action='ignore')\n",
    "    method=['L-BFGS-B'] #['TNC','SLSQP','L-BFGS-B','Nelder-Mead']\n",
    "    N_methods=len(method)\n",
    "    for starting in range(N_random_starts):\n",
    "        data=np.empty((N_methods,8),dtype=object)\n",
    "        for it,methods in enumerate(method):\n",
    "            x0=[np.random.randint(20,120)/1000,np.random.randint(40,50)/10,np.random.randint(5,15)/100,np.random.randint(25,45)/100,np.random.randint(2,9)/100,np.random.randint(45,66)/100]\n",
    "            neg_LL_paired=lambda *args: -LL(*args)/np.sum(counts)\n",
    "            minimum=optimize.minimize(neg_LL_paired,x0,method=methods,bounds=((0.01,.5),(2,20),(0.01,.3),(.1,.8),(0.01,.3),(.1,.8)))\n",
    "            data[it]=np.hstack((minimum.x,minimum.fun,methods))\n",
    "        if starting==0:\n",
    "            df=data\n",
    "        else:\n",
    "            df=np.vstack((df,data))\n",
    "    df=pd.DataFrame(df,columns=['la','ga','f_a','s_a','f_b','s_b','energy','method'])\n",
    "    df=df.sort_values(by=['energy'])\n",
    "    df=df[df['energy'].astype(float)>0]\n",
    "    return df\n",
    "df=optimization_paired(counts_alpha,counts_beta,N_random_starts=50)"
   ]
  },
  {
   "cell_type": "code",
   "execution_count": 24,
   "metadata": {},
   "outputs": [
    {
     "name": "stdout",
     "output_type": "stream",
     "text": [
      "Alpha Real vs. Maximum likelihood estimates\n",
      "Allelic inclusion: Real- 0.083 vs. Estimated- 0.080 (3.7% difference)\n",
      "Lambda: Real- 0.080 vs. Estimated- 0.087 (9.3% difference)\n",
      "Gamma: Real- 4.150 vs. Estimated- 4.153 (0.1% difference)\n",
      "Dropout: Real- 0.530 vs. Estimated- 0.530 (0.0% difference)\n",
      "R²= 0.9999999457812342\n",
      "\n",
      "\n",
      "Beta Real vs. Maximum likelihood estimates\n",
      "Allelic inclusion: Real- 0.043 vs. Estimated- 0.040 (6.3% difference)\n",
      "Lambda: Real- 0.080 vs. Estimated- 0.087 (9.3% difference)\n",
      "Gamma: Real- 4.150 vs. Estimated- 4.153 (0.1% difference)\n",
      "Dropout: Real- 0.390 vs. Estimated- 0.391 (0.2% difference)\n",
      "R²= 0.999999943999932\n",
      "\n",
      "\n"
     ]
    },
    {
     "data": {
      "image/png": "[encoded data removed]",
      "text/plain": [
       "<Figure size 1080x360 with 2 Axes>"
      ]
     },
     "metadata": {
      "needs_background": "light"
     },
     "output_type": "display_data"
    }
   ],
   "source": [
    "def px(la,f_a,ga,s_a):\n",
    "    n_max=20\n",
    "    m_max=10\n",
    "    pre=(np.exp(-la))/((1-np.exp(-la))*scipy.special.zeta(ga))\n",
    "    loadings=[p_loading_convolution(chains,la,ga) for chains in range(n_max+m_max+1)]\n",
    "    inclusions_a=inclusion_probabilities(n_max,m_max,f_a)\n",
    "    return [p_observing_x_chains(i,la,f_a,s_a,ga,loadings,inclusions_a,pre,n_max,m_max) for i in range(0,len(counts_alpha))]\n",
    "    \n",
    "def accuracy_paired(counts_alpha,counts_beta,df,simulate=1):\n",
    "    names=['Alpha','Beta']\n",
    "    rowname_f=['f_a','f_b']\n",
    "    rowname_s=['s_a','s_b']\n",
    "    if simulate==1:\n",
    "        s_real=[s_real_a,s_real_b]\n",
    "        f_real=[f_real_a,f_real_b]\n",
    "    plt.figure(figsize=(15,5))\n",
    "    for j,counts in enumerate([counts_alpha,counts_beta]):\n",
    "        N=np.sum(counts)\n",
    "        theory=px(float(df.iloc[0]['la']),float(df.iloc[0][rowname_f[j]]),float(df.iloc[0]['ga']),float(df.iloc[0][rowname_s[j]]))\n",
    "        stat=stats.linregress(counts,theory)\n",
    "        plt.subplot(1,2,j+1)\n",
    "        plt.bar(range(len(counts)),counts/N,width=0.3,label='Simulation',color='Black')\n",
    "        plt.bar(np.arange(len(counts))+0.3,theory,width=0.3,label='Theoretical',color='darkgray')\n",
    "        plt.xticks(np.arange(len(counts))+0.15,np.arange(len(counts)))\n",
    "        plt.xlabel(f'{names[j]} chains per droplet',fontsize=15)\n",
    "        plt.ylabel('probability',fontsize=15)\n",
    "        plt.yscale('log')\n",
    "        plt.legend(fontsize=15)\n",
    "        \n",
    "        print(f'{names[j]} Real vs. Maximum likelihood estimates')\n",
    "        \n",
    "        try:\n",
    "            print('Allelic inclusion: Real- {:.3f} vs. Estimated- {:.3f} ({:.1f}% difference)'.format(f_real[j],float(df.iloc[0][rowname_f[j]]),np.absolute((f_real[j]-float(df.iloc[0][rowname_f[j]]))/f_real[j])*100))\n",
    "            print('Lambda: Real- {:.3f} vs. Estimated- {:.3f} ({:.1f}% difference)'.format(la_real,float(df.iloc[0]['la']),np.absolute((la_real-float(df.iloc[0]['la']))/la_real)*100))\n",
    "            print('Gamma: Real- {:.3f} vs. Estimated- {:.3f} ({:.1f}% difference)'.format(ga_real,float(df.iloc[0]['ga']),np.absolute((ga_real-float(df.iloc[0]['ga']))/ga_real)*100))\n",
    "            print('Dropout: Real- {:.3f} vs. Estimated- {:.3f} ({:.1f}% difference)'.format(s_real[j],float(df.iloc[0][rowname_s[j]]),np.absolute((s_real[j]-float(df.iloc[0][rowname_s[j]]))/s_real[j])*100))\n",
    "            print('R\\u00b2=',stat[2]**2)\n",
    "        except: \n",
    "            print('Allelic inclusion: Estimated- {:.3f}'.format(float(df.iloc[0][rowname_f[j]])))\n",
    "            print('Lambda: Estimated- {:.3f}'.format(float(df.iloc[0]['la'])))\n",
    "            print('Gamma: Estimated- {:.3f}'.format(float(df.iloc[0]['ga'])))\n",
    "            print('Dropout: Estimated- {:.3f}'.format(float(df.iloc[0][rowname_s[j]])))\n",
    "            print('R\\u00b2=',stat[2]**2)\n",
    "        print('\\n')\n",
    "    plt.show()\n",
    "    plt.close()\n",
    "accuracy_paired(counts_alpha,counts_beta,df,simulate=1)"
   ]
  },
  {
   "cell_type": "markdown",
   "metadata": {},
   "source": [
    "### 4-parameter model on experimental data"
   ]
  },
  {
   "cell_type": "code",
   "execution_count": 25,
   "metadata": {},
   "outputs": [],
   "source": [
    "counts_alpha=np.array([818819, 795095, 73104, 7880, 1560, 558, 212, 131, 67, 46, 24, 12, 16, 11, 3, 3, 1, 1, 3, 1, 1, 2])\n",
    "counts_beta=np.array([602628, 989821, 90413, 10733, 2261, 762, 376, 224, 116, 75, 54, 25, 14, 18, 10, 4, 5, 1, 1, 5, 2, 1, 1])\n",
    "\n",
    "counts_alpha=counts_alpha[:12]\n",
    "counts_beta=counts_beta[:12]"
   ]
  },
  {
   "cell_type": "code",
   "execution_count": 26,
   "metadata": {},
   "outputs": [
    {
     "name": "stdout",
     "output_type": "stream",
     "text": [
      "Alpha Real vs. Maximum likelihood estimates\n",
      "Allelic inclusion: Estimated- 0.085\n",
      "Lambda: Estimated- 0.078\n",
      "Gamma: Estimated- 4.154\n",
      "Dropout: Estimated- 0.532\n",
      "R²= 0.999999886936758\n",
      "\n",
      "\n",
      "Beta Real vs. Maximum likelihood estimates\n",
      "Allelic inclusion: Estimated- 0.044\n",
      "Lambda: Estimated- 0.078\n",
      "Gamma: Estimated- 4.154\n",
      "Dropout: Estimated- 0.392\n",
      "R²= 0.999999924921046\n",
      "\n",
      "\n"
     ]
    },
    {
     "data": {
      "image/png": "[encoded data removed]",
      "text/plain": [
       "<Figure size 1080x360 with 2 Axes>"
      ]
     },
     "metadata": {
      "needs_background": "light"
     },
     "output_type": "display_data"
    }
   ],
   "source": [
    "df=optimization_paired(counts_alpha,counts_beta,N_random_starts=50)\n",
    "accuracy_paired(counts_alpha,counts_beta,df,simulate=0)"
   ]
  }
 ],
 "metadata": {
  "kernelspec": {
   "display_name": "Python 3",
   "language": "python",
   "name": "python3"
  },
  "language_info": {
   "codemirror_mode": {
    "name": "ipython",
    "version": 3
   },
   "file_extension": ".py",
   "mimetype": "text/x-python",
   "name": "python",
   "nbconvert_exporter": "python",
   "pygments_lexer": "ipython3",
   "version": "3.6.8"
  }
 },
 "nbformat": 4,
 "nbformat_minor": 2
}
