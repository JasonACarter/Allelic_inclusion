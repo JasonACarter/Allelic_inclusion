{
 "cells": [
  {
   "cell_type": "code",
   "execution_count": 1,
   "metadata": {},
   "outputs": [],
   "source": [
    "import os\n",
    "import matplotlib.pyplot as plt\n",
    "import numpy as np\n",
    "import pandas as pd\n",
    "from scipy import stats\n",
    "import seaborn as sns"
   ]
  },
  {
   "cell_type": "code",
   "execution_count": 2,
   "metadata": {},
   "outputs": [],
   "source": [
    "ab=pd.read_pickle('../../Data/AB.pkl')\n",
    "aab=pd.read_pickle('../../Data/AAB.pkl')\n",
    "abb=pd.read_pickle('../../Data/ABB.pkl')"
   ]
  },
  {
   "cell_type": "code",
   "execution_count": 3,
   "metadata": {},
   "outputs": [],
   "source": [
    "vdjdb=pd.DataFrame(np.genfromtxt('../../Data/VDJdb.txt',delimiter='\\t',dtype='unicode',autostrip=True))\n",
    "vdjdb.columns=vdjdb.iloc[0]\n",
    "vdjdb=vdjdb.iloc[1:]"
   ]
  },
  {
   "cell_type": "code",
   "execution_count": 4,
   "metadata": {},
   "outputs": [],
   "source": [
    "def truncate_germline_names(data):    \n",
    "    \"\"\"\n",
    "    Prepare gerlmine names s.t. the format matches the V/J region names provided names\n",
    "    \"\"\"\n",
    "    if 'A' in data:\n",
    "        which='A'\n",
    "    else:\n",
    "        which='B'\n",
    "    if '*' in data:\n",
    "        value=data[data.find(which)+2:data.find('*')]\n",
    "    else:\n",
    "        value=data[data.find(which)+2:]\n",
    "    return value"
   ]
  },
  {
   "cell_type": "code",
   "execution_count": 5,
   "metadata": {},
   "outputs": [],
   "source": [
    "vdjdb.V=list(map(truncate_germline_names,vdjdb.V))\n",
    "vdjdb.J=list(map(truncate_germline_names,vdjdb.J))\n",
    "chain=[]\n",
    "for x in vdjdb.Gene:\n",
    "    if x=='TRA':\n",
    "        chain.append('Alpha')\n",
    "    elif x=='TRB':\n",
    "        chain.append('Beta')\n",
    "vdjdb['chain']=chain\n",
    "vdjdb['Clonotype']=vdjdb.CDR3+vdjdb.chain+vdjdb.V\n",
    "vdjdb=vdjdb.drop_duplicates()"
   ]
  },
  {
   "cell_type": "code",
   "execution_count": 6,
   "metadata": {},
   "outputs": [],
   "source": [
    "def prepare_dfs(df):\n",
    "    \"\"\"\n",
    "    Input full ab,aab, or abb df \n",
    "    Output alpha and beta dfs with columns \"V\", \"J\" and (amino acid) \"CDR3\"\n",
    "    \"\"\"\n",
    "    if 'a2_V' in df.columns: #aab cell -> include both alpha chains\n",
    "        alpha1=df[['a1_V','a1_J','a1_aaSeqCDR3','subject']]\n",
    "        alpha2=df[['a2_V','a2_J','a2_aaSeqCDR3','subject']]\n",
    "        alpha=np.vstack((alpha1,alpha2)) #combine alpha-alpha pairs into one df\n",
    "        beta=np.array((df[['b1_V','b1_J','b1_aaSeqCDR3','subject']]))\n",
    "    elif 'b2_V' in df.columns: #aab cell -> include both beta chains\n",
    "        alpha=np.array((df[['a1_V','a1_J','a1_aaSeqCDR3','subject']]))\n",
    "        beta1=df[['b1_V','b1_J','b1_aaSeqCDR3','subject']]\n",
    "        beta2=df[['b2_V','b2_J','b2_aaSeqCDR3','subject']]\n",
    "        beta=np.vstack((beta1,beta2)) #combine beta-beta pairs into one df\n",
    "    else: #ab cell\n",
    "        alpha=np.array((df[['a1_V','a1_J','a1_aaSeqCDR3','subject']]))\n",
    "        beta=np.array((df[['b1_V','b1_J','b1_aaSeqCDR3','subject']]))   \n",
    "    combined=pd.DataFrame(alpha,columns=['V','J','CDR3','subject']).append(pd.DataFrame(beta,columns=['V','J','CDR3','subject']))\n",
    "    combined['Chain']=np.hstack((['Alpha']*alpha.shape[0],['Beta']*beta.shape[0]))\n",
    "    combined.V=list(map(truncate_germline_names,combined.V))\n",
    "    combined.J=list(map(truncate_germline_names,combined.J))\n",
    "    combined['Clonotype']=combined.CDR3+combined.Chain+combined.V\n",
    "    return combined"
   ]
  },
  {
   "cell_type": "code",
   "execution_count": 7,
   "metadata": {},
   "outputs": [],
   "source": [
    "ab=prepare_dfs(ab)\n",
    "aab=prepare_dfs(aab)\n",
    "abb=prepare_dfs(abb)"
   ]
  },
  {
   "cell_type": "code",
   "execution_count": 8,
   "metadata": {},
   "outputs": [
    {
     "name": "stdout",
     "output_type": "stream",
     "text": [
      "Alpha: odds ratio= 1.9047179276946624 (p=3.603144163250983e-23\n",
      "Beta: odds ratio= 1.719168207483494 (p=0.00014641788568560513\n"
     ]
    }
   ],
   "source": [
    "for chain in ['Alpha','Beta']:\n",
    "    a=len(np.intersect1d(aab[(aab.Chain==chain)].Clonotype,vdjdb.Clonotype))+len(np.intersect1d(abb[(abb.Chain==chain)].Clonotype,vdjdb.Clonotype))\n",
    "    b=len(np.intersect1d(ab[(ab.Chain==chain)].Clonotype,vdjdb.Clonotype))\n",
    "    c=aab[(aab.Chain==chain)].shape[0]+abb[(abb.Chain==chain)].shape[0]\n",
    "    d=ab[(ab.Chain==chain)].shape[0]\n",
    "    OR,pvalue=stats.fisher_exact([[a,b],[c,d]])\n",
    "    print(f'{chain}: odds ratio= {OR} (p={pvalue}')"
   ]
  },
  {
   "cell_type": "code",
   "execution_count": 9,
   "metadata": {},
   "outputs": [],
   "source": [
    "freqs=[]\n",
    "for chain in ['Alpha','Beta']:\n",
    "    for i in ab.subject.unique():\n",
    "        for j,data in enumerate([ab,aab,abb]):\n",
    "            if ab[(ab.subject==i) & (ab.Chain==chain)].shape[0]>10000:\n",
    "                use=data[(data.subject==i) & (data.Chain==chain)]\n",
    "                overlap=len(np.intersect1d(use.Clonotype,vdjdb.Clonotype))/use.shape[0]*100\n",
    "                freqs.append([i,j,chain,overlap])\n",
    "df=pd.DataFrame(freqs,columns=['subject','dataset','chain','y'])"
   ]
  },
  {
   "cell_type": "code",
   "execution_count": 10,
   "metadata": {},
   "outputs": [
    {
     "data": {
      "image/png": "[encoded data removed]",
      "text/plain": [
       "<Figure size 360x360 with 1 Axes>"
      ]
     },
     "metadata": {
      "needs_background": "light"
     },
     "output_type": "display_data"
    }
   ],
   "source": [
    "a4_dims = (5,5)\n",
    "fig, ax = plt.subplots(figsize=a4_dims)      \n",
    "sns.barplot(x='chain',y='y',hue='dataset',data=df,palette=['Gray','Dodgerblue','Salmon'],ci=68)\n",
    "sns.despine()\n",
    "plt.yticks(fontsize=20)\n",
    "plt.xticks(np.arange(2),[r'$\\alpha$',r'$\\beta$'],fontsize=25)\n",
    "plt.xlabel('')\n",
    "plt.ylabel('')  \n",
    "plt.tight_layout()\n",
    "plt.legend('')\n",
    "plt.ylim([0,1.2])\n",
    "\n",
    "plt.show()\n",
    "plt.close()"
   ]
  }
 ],
 "metadata": {
  "kernelspec": {
   "display_name": "Python 3",
   "language": "python",
   "name": "python3"
  },
  "language_info": {
   "codemirror_mode": {
    "name": "ipython",
    "version": 3
   },
   "file_extension": ".py",
   "mimetype": "text/x-python",
   "name": "python",
   "nbconvert_exporter": "python",
   "pygments_lexer": "ipython3",
   "version": "3.6.8"
  }
 },
 "nbformat": 4,
 "nbformat_minor": 2
}
