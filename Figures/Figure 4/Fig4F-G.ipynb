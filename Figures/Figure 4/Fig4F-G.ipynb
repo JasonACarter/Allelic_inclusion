{
 "cells": [
  {
   "cell_type": "code",
   "execution_count": 1,
   "metadata": {},
   "outputs": [],
   "source": [
    "import os\n",
    "import matplotlib.pyplot as plt\n",
    "import numpy as np\n",
    "import pandas as pd\n",
    "from scipy import stats\n",
    "import seaborn as sns"
   ]
  },
  {
   "cell_type": "code",
   "execution_count": 2,
   "metadata": {},
   "outputs": [],
   "source": [
    "ab=pd.read_pickle('../../Data/AB.pkl')\n",
    "aab=pd.read_pickle('../../Data/AAB.pkl')\n",
    "abb=pd.read_pickle('../../Data/ABB.pkl')"
   ]
  },
  {
   "cell_type": "code",
   "execution_count": 3,
   "metadata": {},
   "outputs": [],
   "source": [
    "vdjdb=pd.DataFrame(np.genfromtxt('../../Data/VDJdb.txt',delimiter='\\t',dtype='unicode',autostrip=True))\n",
    "vdjdb.columns=vdjdb.iloc[0]\n",
    "vdjdb=vdjdb.iloc[1:]"
   ]
  },
  {
   "cell_type": "code",
   "execution_count": 4,
   "metadata": {},
   "outputs": [],
   "source": [
    "def truncate_germline_names(data):    \n",
    "    \"\"\"\n",
    "    Prepare gerlmine names s.t. the format matches the V/J region names provided names\n",
    "    \"\"\"\n",
    "    if 'A' in data:\n",
    "        which='A'\n",
    "    else:\n",
    "        which='B'\n",
    "    if '*' in data:\n",
    "        value=data[data.find(which)+2:data.find('*')]\n",
    "    else:\n",
    "        value=data[data.find(which)+2:]\n",
    "    return value"
   ]
  },
  {
   "cell_type": "code",
   "execution_count": 5,
   "metadata": {},
   "outputs": [],
   "source": [
    "vdjdb.V=list(map(truncate_germline_names,vdjdb.V))\n",
    "vdjdb.J=list(map(truncate_germline_names,vdjdb.J))\n",
    "chain=[]\n",
    "for x in vdjdb.Gene:\n",
    "    if x=='TRA':\n",
    "        chain.append('Alpha')\n",
    "    elif x=='TRB':\n",
    "        chain.append('Beta')\n",
    "vdjdb['chain']=chain\n",
    "vdjdb['Clonotype']=vdjdb.CDR3+vdjdb.chain\n",
    "vdjdb=vdjdb.drop_duplicates()"
   ]
  },
  {
   "cell_type": "code",
   "execution_count": 6,
   "metadata": {},
   "outputs": [],
   "source": [
    "def find_known_tcrs(df,chain):\n",
    "    Vs=list(map(truncate_germline_names,df[chain+'_V']))\n",
    "    Js=list(map(truncate_germline_names,df[chain+'_J']))\n",
    "    CDR3=df[chain+'_aaSeqCDR3']\n",
    "    if chain[0]=='a':\n",
    "        chain='Alpha'\n",
    "    else:\n",
    "        chain='Beta'\n",
    "    clonotypes=np.unique(CDR3+chain)\n",
    "    overlapping=np.intersect1d(clonotypes,vdjdb.Clonotype,return_indices=1)\n",
    "    return np.array([vdjdb.iloc[overlapping[2][np.where(x==overlapping[0])[0][0]]]['Epitope species'] if x in overlapping[0] else 'None' for x in clonotypes ])"
   ]
  },
  {
   "cell_type": "code",
   "execution_count": 7,
   "metadata": {},
   "outputs": [],
   "source": [
    "def combined_inclusion(a1,a2):\n",
    "    cell=[]\n",
    "    for x,y in zip(a1,a2):\n",
    "        if x!='None' and y=='None':\n",
    "            cell.append(x)\n",
    "        else:\n",
    "            cell.append(y)\n",
    "    return cell"
   ]
  },
  {
   "cell_type": "code",
   "execution_count": 8,
   "metadata": {},
   "outputs": [],
   "source": [
    "antigens=np.hstack(('None',np.unique(vdjdb['Epitope species'])))\n",
    "all_data=[]\n",
    "for chain in ['alpha','beta']:\n",
    "    for i,df in enumerate([ab,aab,abb]):\n",
    "        for subject in ab.subject.unique():\n",
    "            if ab[ab.subject==subject].shape[0]>10000:\n",
    "                if chain=='alpha':\n",
    "                    if i==1:\n",
    "                        data=combined_inclusion(find_known_tcrs(df[df.subject==subject],'a1'),find_known_tcrs(df[df.subject==subject],'a2'))\n",
    "                    else:\n",
    "                        data=find_known_tcrs(df[df.subject==subject],'a1')\n",
    "                else:\n",
    "                    if i==2:\n",
    "                        data=combined_inclusion(find_known_tcrs(df[df.subject==subject],'b1'),find_known_tcrs(df[df.subject==subject],'b2'))\n",
    "                    else:\n",
    "                        data=find_known_tcrs(df[df.subject==subject],'b1')\n",
    "                data,counts=np.unique(data,return_counts=1)\n",
    "                counts=np.array(counts)/df[df.subject==subject].shape[0]\n",
    "                ordered_counts=[counts[np.where(x==data)[0][0]] if x in data else 0 for x in antigens]\n",
    "                all_data.append(np.hstack((i,subject,chain,ordered_counts)))\n",
    "df=pd.DataFrame(np.vstack(all_data))\n",
    "df.columns=np.hstack(('Dataset','Subject','Chain',tuple(antigens)))"
   ]
  },
  {
   "cell_type": "code",
   "execution_count": 9,
   "metadata": {},
   "outputs": [],
   "source": [
    "df=df.melt(id_vars=['Subject','Dataset','Chain'], value_vars=[x for x in df.columns[3:]])"
   ]
  },
  {
   "cell_type": "code",
   "execution_count": 10,
   "metadata": {},
   "outputs": [],
   "source": [
    "df.value=df.value.astype(float)*100"
   ]
  },
  {
   "cell_type": "code",
   "execution_count": 11,
   "metadata": {},
   "outputs": [],
   "source": [
    "antigens=[]\n",
    "for x in df.variable.unique():\n",
    "    freq=np.sum(df[df.variable==x].value)\n",
    "    if freq>0.5 and x!='None':\n",
    "        antigens.append([x,freq])\n",
    "counts=np.array(antigens)[:,1].astype(float)\n",
    "antigens=np.array(antigens)[:,0]\n",
    "antigens=antigens[np.argsort(counts)[::-1]]"
   ]
  },
  {
   "cell_type": "code",
   "execution_count": 12,
   "metadata": {},
   "outputs": [],
   "source": [
    "def convert(antigen):\n",
    "    if antigen=='InfluenzaA':\n",
    "        return 'FluA'\n",
    "    elif antigen=='HomoSapiens':\n",
    "        return 'Human'\n",
    "    elif antigen=='YellowFeverVirus':\n",
    "        return 'YFV'\n",
    "    else:\n",
    "        return antigen"
   ]
  },
  {
   "cell_type": "code",
   "execution_count": 13,
   "metadata": {},
   "outputs": [
    {
     "data": {
      "image/png": "[encoded data removed]",
      "text/plain": [
       "<Figure size 432x288 with 1 Axes>"
      ]
     },
     "metadata": {
      "needs_background": "light"
     },
     "output_type": "display_data"
    }
   ],
   "source": [
    "sns.barplot(x='variable',y='value',hue='Dataset',data=df[(df.Chain=='alpha') & (df.variable.isin(antigens))],ci=68,palette=['Gray','Dodgerblue','Salmon'],order=antigens)\n",
    "plt.xticks(np.arange(len(antigens)),list(map(convert,antigens)),rotation=90,fontsize=13)\n",
    "plt.ylim([0,2.5])\n",
    "plt.yticks(fontsize=15)\n",
    "plt.ylabel('')\n",
    "plt.xlabel('')\n",
    "plt.legend('')\n",
    "plt.tight_layout()\n",
    "plt.show()\n",
    "plt.close()"
   ]
  },
  {
   "cell_type": "code",
   "execution_count": 14,
   "metadata": {},
   "outputs": [
    {
     "data": {
      "image/png": "[encoded data removed]",
      "text/plain": [
       "<Figure size 432x288 with 1 Axes>"
      ]
     },
     "metadata": {
      "needs_background": "light"
     },
     "output_type": "display_data"
    }
   ],
   "source": [
    "sns.barplot(x='variable',y='value',hue='Dataset',data=df[(df.Chain=='beta') & (df.variable.isin(antigens))],ci=68,palette=['Gray','Dodgerblue','Salmon'],order=antigens)\n",
    "plt.xticks(np.arange(len(antigens)),list(map(convert,antigens)),rotation=90,fontsize=13)\n",
    "plt.ylim([0,.8])\n",
    "plt.yticks(fontsize=15)\n",
    "plt.ylabel('')\n",
    "plt.xlabel('')\n",
    "plt.legend('')\n",
    "plt.tight_layout()\n",
    "plt.show()\n",
    "plt.close()"
   ]
  }
 ],
 "metadata": {
  "kernelspec": {
   "display_name": "Python 3",
   "language": "python",
   "name": "python3"
  },
  "language_info": {
   "codemirror_mode": {
    "name": "ipython",
    "version": 3
   },
   "file_extension": ".py",
   "mimetype": "text/x-python",
   "name": "python",
   "nbconvert_exporter": "python",
   "pygments_lexer": "ipython3",
   "version": "3.6.8"
  }
 },
 "nbformat": 4,
 "nbformat_minor": 2
}
