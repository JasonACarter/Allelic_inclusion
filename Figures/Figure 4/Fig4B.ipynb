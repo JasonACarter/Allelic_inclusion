{
 "cells": [
  {
   "cell_type": "code",
   "execution_count": 1,
   "metadata": {},
   "outputs": [],
   "source": [
    "import os\n",
    "import matplotlib.pyplot as plt\n",
    "import numpy as np\n",
    "import pandas as pd\n",
    "from scipy import stats\n",
    "import seaborn as sns\n",
    "import statsmodels.api as sm"
   ]
  },
  {
   "cell_type": "code",
   "execution_count": 2,
   "metadata": {},
   "outputs": [],
   "source": [
    "ab=pd.read_pickle('../../Data/AB.pkl')\n",
    "aab=pd.read_pickle('../../Data/AAB.pkl')\n",
    "abb=pd.read_pickle('../../Data/ABB.pkl')"
   ]
  },
  {
   "cell_type": "code",
   "execution_count": 3,
   "metadata": {},
   "outputs": [],
   "source": [
    "def truncate_germline_names(data):    \n",
    "    \"\"\"\n",
    "    Prepare gerlmine names s.t. the format matches the V/J region names provided names\n",
    "    \"\"\"\n",
    "    beta_v_order=np.array(['1','2','3-1','4-1','5-1','6-1','7-1','4-2','6-2','3-2','4-3','6-3','7-2','8-1','5-2','6-4','7-3','8-2','5-3','9','10-1','11-1','12-1','10-2','11-2','12-2','6-5','7-4','5-4','6-6','7-5','5-5','6-7','7-6','5-6','6-8','7-7','5-7','6-9','7-8','5-8','7-9','13','10-3','11-3','12-3','12-4','12-5','14','15','16','17','18','19','20-1','21-1','22-1','23-1','24-1','25-1','26','27','28','29-1','30'])\n",
    "    alpha_v_order=np.array(['1-1','1-2','2','3','4','5','6','7','8-1','9-1','10','11','12-1','8-2','8-3','13-1','12-2','8-4','8-5','13-2','14DV4','9-2','15','12-3','8-6','16','17','18','19','20','21','22','23DV6','24','25','26-1','8-7','27','28','29DV5','30','31','32','33','26-2','34','35','36DV7','37','38-1','38-2DV8','39','40','41'])\n",
    "    beta_j_order=np.array(['1-1','1-2','1-3','1-4','1-5','1-6','2-1','2-2','2-2P','2-3','2-4','2-5','2-6','2-7'])\n",
    "    alpha_j_order=np.array(list(map(str,range(1,62))))\n",
    "    \n",
    "\n",
    "    if 'A' in data:\n",
    "        which='A'\n",
    "        if 'V' in data:\n",
    "            order=alpha_v_order\n",
    "        else:\n",
    "            order=alpha_j_order\n",
    "    else:\n",
    "        which='B'\n",
    "        if 'V' in data:\n",
    "            order=beta_v_order\n",
    "        else:\n",
    "            order=beta_j_order\n",
    "         \n",
    "    if '*' in data:\n",
    "        value=data[data.find(which)+2:data.find('*')]\n",
    "    else:\n",
    "        value=data[data.find(which)+2:]\n",
    "    \n",
    "    return np.where(value==order)[0][0]"
   ]
  },
  {
   "cell_type": "code",
   "execution_count": 4,
   "metadata": {},
   "outputs": [],
   "source": [
    "def cdr3_charge(cdr3):\n",
    "    return cdr3.count('R')+cdr3.count('K')-cdr3.count('D')-cdr3.count('E')+20"
   ]
  },
  {
   "cell_type": "code",
   "execution_count": 5,
   "metadata": {},
   "outputs": [],
   "source": [
    "def prepare_dfs(df):\n",
    "    \"\"\"\n",
    "    Input full ab,aab, or abb df \n",
    "    Output alpha and beta dfs with columns \"V\", \"J\" and (amino acid) \"CDR3\"\n",
    "    \"\"\"\n",
    "    if 'a2_V' in df.columns: #aab cell -> include both alpha chains\n",
    "        alpha1=df[['a1_V','a1_J','a1_aaSeqCDR3','subject']]\n",
    "        alpha2=df[['a2_V','a2_J','a2_aaSeqCDR3','subject']]\n",
    "        alpha=np.vstack((alpha1,alpha2)) #combine alpha-alpha pairs into one df\n",
    "        beta=np.array((df[['b1_V','b1_J','b1_aaSeqCDR3','subject']]))\n",
    "    elif 'b2_V' in df.columns: #aab cell -> include both beta chains\n",
    "        alpha=np.array((df[['a1_V','a1_J','a1_aaSeqCDR3','subject']]))\n",
    "        beta1=df[['b1_V','b1_J','b1_aaSeqCDR3','subject']]\n",
    "        beta2=df[['b2_V','b2_J','b2_aaSeqCDR3','subject']]\n",
    "        beta=np.vstack((beta1,beta2)) #combine beta-beta pairs into one df\n",
    "    else: #ab cell\n",
    "        alpha=np.array((df[['a1_V','a1_J','a1_aaSeqCDR3','subject']]))\n",
    "        beta=np.array((df[['b1_V','b1_J','b1_aaSeqCDR3','subject']]))   \n",
    "    combined=pd.DataFrame(alpha,columns=['V','J','CDR3','subject']).append(pd.DataFrame(beta,columns=['V','J','CDR3','subject']))\n",
    "    combined['Chain']=np.hstack((['Alpha']*alpha.shape[0],['Beta']*beta.shape[0]))\n",
    "    combined.V=list(map(truncate_germline_names,combined.V))\n",
    "    combined.J=list(map(truncate_germline_names,combined.J))\n",
    "    combined['Charge']=list(map(cdr3_charge,combined.CDR3))\n",
    "    combined['Length']=list(map(len,combined.CDR3))\n",
    "    return combined"
   ]
  },
  {
   "cell_type": "code",
   "execution_count": 6,
   "metadata": {},
   "outputs": [],
   "source": [
    "ab=prepare_dfs(ab)#.drop_duplicates()\n",
    "aab=prepare_dfs(aab)#.drop_duplicates()\n",
    "abb=prepare_dfs(abb)#.drop_duplicates()"
   ]
  },
  {
   "cell_type": "code",
   "execution_count": 7,
   "metadata": {},
   "outputs": [],
   "source": [
    "def calculate_information(normal,inclusion):\n",
    "    datapoints=np.unique(np.hstack((normal,inclusion)))\n",
    "    count_matrix=MI_matrix=np.zeros((len(datapoints),2))\n",
    "    for i,dataset in enumerate([normal,inclusion]):\n",
    "        for x in dataset:\n",
    "            count_matrix[np.where(x==datapoints)[0][0],i]+=1\n",
    "    count_matrix=count_matrix/np.sum(count_matrix)\n",
    "    for i in range(count_matrix.shape[0]):\n",
    "        for j in range(count_matrix.shape[1]):\n",
    "            joint=count_matrix[i,j]\n",
    "            marginal_inclusion=np.sum(count_matrix[:,j])\n",
    "            marginal_feature=np.sum(count_matrix[i,:])\n",
    "            if marginal_inclusion>0 and marginal_feature>0 and joint>0:\n",
    "                MI_matrix[i,j]=joint*np.log2(joint/(marginal_inclusion*marginal_feature))\n",
    "    return np.sum(MI_matrix)"
   ]
  },
  {
   "cell_type": "code",
   "execution_count": 8,
   "metadata": {},
   "outputs": [],
   "source": [
    "def finite_sampling_correction(normal,inclusion):\n",
    "    info=[]\n",
    "    value=[]\n",
    "    for sample_size in np.arange(0.1,1,.02):\n",
    "        for bootstraps in range(10):\n",
    "            info.append(calculate_information(normal.sample(frac=sample_size),inclusion.sample(frac=sample_size)))\n",
    "            value.append(sample_size)\n",
    "    fit=np.polyfit(1/np.array(value),info,deg=2)\n",
    "    p = np.poly1d(fit)\n",
    "    return p(0)#low,intercept,high"
   ]
  },
  {
   "cell_type": "code",
   "execution_count": 9,
   "metadata": {},
   "outputs": [],
   "source": [
    "data=[]\n",
    "for bootstraping in range(10):\n",
    "    aab_subsample=aab.sample(frac=0.8)\n",
    "    abb_subsample=abb.sample(frac=0.8)\n",
    "    ab_subsample=ab.sample(frac=0.8)\n",
    "    for feature in ['V','J','Charge','Length']:\n",
    "        for i,inclusion_dataset in enumerate([aab_subsample,abb_subsample]):\n",
    "            for chain in ['Alpha','Beta']:\n",
    "                normal=ab_subsample[(ab_subsample.Chain==chain)][feature]\n",
    "                inclusion=inclusion_dataset[(inclusion_dataset.Chain==chain)][feature]\n",
    "                data.append(np.hstack((feature,chain,i,finite_sampling_correction(normal,inclusion))))"
   ]
  },
  {
   "cell_type": "code",
   "execution_count": 10,
   "metadata": {},
   "outputs": [],
   "source": [
    "data=pd.DataFrame(np.vstack(data),columns=['Feature','Chain','Dataset','y'])#'low','y','high'])\n",
    "data['Hue']=data.Chain+data.Dataset.astype(str)\n",
    "#data[['low','y','high']]=data[['low','y','high']].astype(float)\n",
    "data.y=data.y.astype(float)"
   ]
  },
  {
   "cell_type": "code",
   "execution_count": 11,
   "metadata": {},
   "outputs": [
    {
     "data": {
      "text/plain": [
       "<matplotlib.legend.Legend at 0x1c21410470>"
      ]
     },
     "execution_count": 11,
     "metadata": {},
     "output_type": "execute_result"
    },
    {
     "data": {
      "image/png": "[encoded data removed]",
      "text/plain": [
       "<Figure size 432x288 with 1 Axes>"
      ]
     },
     "metadata": {
      "needs_background": "light"
     },
     "output_type": "display_data"
    }
   ],
   "source": [
    "sns.barplot(x='Feature',y='y',hue='Hue',data=data,order=['V','J','Length','Charge'],palette=['cornflowerblue','royalblue','lightcoral','firebrick'],ci='sd')\n",
    "plt.yscale('log')\n",
    "plt.ylim([1e-5,1e-2])\n",
    "plt.xlabel('')\n",
    "plt.ylabel('')\n",
    "plt.xticks(fontsize=15)\n",
    "plt.yticks(fontsize=15)\n",
    "plt.tight_layout()\n",
    "plt.legend('')\n"
   ]
  }
 ],
 "metadata": {
  "kernelspec": {
   "display_name": "Python 3",
   "language": "python",
   "name": "python3"
  },
  "language_info": {
   "codemirror_mode": {
    "name": "ipython",
    "version": 3
   },
   "file_extension": ".py",
   "mimetype": "text/x-python",
   "name": "python",
   "nbconvert_exporter": "python",
   "pygments_lexer": "ipython3",
   "version": "3.6.8"
  }
 },
 "nbformat": 4,
 "nbformat_minor": 2
}
