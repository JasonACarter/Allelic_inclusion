{
 "cells": [
  {
   "cell_type": "code",
   "execution_count": 1,
   "metadata": {},
   "outputs": [],
   "source": [
    "import os\n",
    "import numpy as np\n",
    "import pandas as pd\n",
    "from matplotlib import pyplot as plt\n",
    "from scipy import stats\n",
    "import seaborn as sns\n",
    "from sklearn.model_selection import RepeatedStratifiedKFold\n",
    "from sklearn.metrics import roc_curve, auc, accuracy_score\n",
    "from sklearn.ensemble import VotingClassifier\n",
    "from sklearn import svm,utils\n",
    "from sklearn.neural_network import MLPClassifier\n",
    "from sklearn.linear_model import LogisticRegression"
   ]
  },
  {
   "cell_type": "code",
   "execution_count": 2,
   "metadata": {},
   "outputs": [],
   "source": [
    "ab=pd.read_pickle('../../Data/AB.pkl')\n",
    "aab=pd.read_pickle('../../Data/AAB.pkl')\n",
    "abb=pd.read_pickle('../../Data/ABB.pkl')"
   ]
  },
  {
   "cell_type": "code",
   "execution_count": 3,
   "metadata": {},
   "outputs": [],
   "source": [
    "def prepare_dfs(df):\n",
    "    \"\"\"\n",
    "    Input full ab,aab, or abb df \n",
    "    Output alpha and beta dfs with columns \"V\", \"J\" and (amino acid) \"CDR3\"\n",
    "    \"\"\"\n",
    "    if 'a2_V' in df.columns: #aab cell -> include both alpha chains\n",
    "        alpha1=df[['a1_V','a1_J','a1_aaSeqCDR3']]\n",
    "        alpha2=df[['a2_V','a2_J','a2_aaSeqCDR3']]\n",
    "        alpha=np.vstack((alpha1,alpha2)) #combine alpha-alpha pairs into one df\n",
    "        beta=np.array((df[['b1_V','b1_J','b1_aaSeqCDR3']]))\n",
    "    elif 'b2_V' in df.columns: #aab cell -> include both beta chains\n",
    "        alpha=np.array((df[['a1_V','a1_J','a1_aaSeqCDR3']]))\n",
    "        beta1=df[['b1_V','b1_J','b1_aaSeqCDR3']]\n",
    "        beta2=df[['b2_V','b2_J','b2_aaSeqCDR3']]\n",
    "        beta=np.vstack((beta1,beta2)) #combine beta-beta pairs into one df\n",
    "    else: #ab cell\n",
    "        alpha=np.array((df[['a1_V','a1_J','a1_aaSeqCDR3']]))\n",
    "        beta=np.array((df[['b1_V','b1_J','b1_aaSeqCDR3']]))\n",
    "    return pd.DataFrame(alpha,columns=['V','J','CDR3']),pd.DataFrame(beta,columns=['V','J','CDR3'])"
   ]
  },
  {
   "cell_type": "code",
   "execution_count": 4,
   "metadata": {},
   "outputs": [],
   "source": [
    "def germline_genes(chain_type):\n",
    "    \"\"\"\n",
    "    Provide list of germline region names \n",
    "    Output correct V and J germline regions for alpha or beta chains\n",
    "    \"\"\"\n",
    "    beta_v_order=np.array(['1','2','3-1','4-1','5-1','6-1','7-1','4-2','6-2','3-2','4-3','6-3','7-2','8-1','5-2','6-4','7-3','8-2','5-3','9','10-1','11-1','12-1','10-2','11-2','12-2','6-5','7-4','5-4','6-6','7-5','5-5','6-7','7-6','5-6','6-8','7-7','5-7','6-9','7-8','5-8','7-9','13','10-3','11-3','12-3','12-4','12-5','14','15','16','17','18','19','20-1','21-1','22-1','23-1','24-1','25-1','26','27','28','29-1','30'])\n",
    "    alpha_v_order=np.array(['1-1','1-2','2','3','4','5','6','7','8-1','9-1','10','11','12-1','8-2','8-3','13-1','12-2','8-4','8-5','13-2','14DV4','9-2','15','12-3','8-6','16','17','18','19','20','21','22','23DV6','24','25','26-1','8-7','27','28','29DV5','30','31','32','33','26-2','34','35','36DV7','37','38-1','38-2DV8','39','40','41'])\n",
    "    beta_j_order=np.array(['1-1','1-2','1-3','1-4','1-5','1-6','2-1','2-2','2-2P','2-3','2-4','2-5','2-6','2-7'])\n",
    "    alpha_j_order=np.array(list(map(str,range(1,62))))\n",
    "    aa='GALSTNKVYRIQDFPEMWHC'  \n",
    "    if chain_type=='A':\n",
    "        order_v=alpha_v_order\n",
    "        order_j=alpha_j_order\n",
    "    elif chain_type=='B':\n",
    "        order_v=beta_v_order\n",
    "        order_j=beta_j_order\n",
    "    return order_v,order_j,aa"
   ]
  },
  {
   "cell_type": "code",
   "execution_count": 5,
   "metadata": {},
   "outputs": [],
   "source": [
    "def truncate_germline_names(data):    \n",
    "    \"\"\"\n",
    "    Prepare gerlmine names s.t. the format matches the V/J region names provided names\n",
    "    \"\"\"\n",
    "    if 'A' in data:\n",
    "        which='A'\n",
    "    else:\n",
    "        which='B'\n",
    "    if '*' in data:\n",
    "        value=data[data.find(which)+2:data.find('*')]\n",
    "    else:\n",
    "        value=data[data.find(which)+2:]\n",
    "    return value"
   ]
  },
  {
   "cell_type": "code",
   "execution_count": 6,
   "metadata": {},
   "outputs": [],
   "source": [
    "def create_vector(df,v_order,j_order,aa):\n",
    "    \"\"\"\n",
    "    Combine V, J and CDR3 features into single numeric vector\n",
    "    \"\"\"\n",
    "    vs=np.zeros((1,len(v_order)))[0]\n",
    "    js=np.zeros((1,len(j_order)))[0]\n",
    "    vs[df.V]=1\n",
    "    js[df.J]=1\n",
    "    return np.hstack((vs,js,len(df.CDR3),[df['aa_'+x] for x in aa]))"
   ]
  },
  {
   "cell_type": "code",
   "execution_count": 7,
   "metadata": {},
   "outputs": [],
   "source": [
    "def feature_to_vector(df):\n",
    "    \"\"\"\n",
    "    Input alpha or beta df with columns V,J and CDR3\n",
    "    Output numeric vectors for ML\n",
    "    \"\"\"\n",
    "    chain_type=df.V.iloc[0][2] #'Get chain type (A' or 'B')\n",
    "    v_order,j_order,aa=germline_genes(chain_type)\n",
    "    df.V=[np.where(x==v_order)[0][0] for x in list(map(truncate_germline_names,df.V))]\n",
    "    df.J=[np.where(x==j_order)[0][0] for x in list(map(truncate_germline_names,df.J))]\n",
    "    for x in aa:\n",
    "        df['aa_'+x]=[cdr3.count(x) for cdr3 in df.CDR3]\n",
    "    df['Vector']=[create_vector(df.iloc[x],v_order,j_order,aa) for x in range(df.shape[0])]\n",
    "    return np.array(pd.DataFrame(np.vstack(df.Vector)).drop_duplicates())"
   ]
  },
  {
   "cell_type": "code",
   "execution_count": 8,
   "metadata": {},
   "outputs": [],
   "source": [
    "#Prepare alpha and beta datasets for ab,aab, and abb repertoires\n",
    "datasets=np.empty((2,3),dtype=object)\n",
    "for i,x in enumerate([ab,aab,abb]):\n",
    "    a,b=prepare_dfs(x)\n",
    "    datasets[0,i]=feature_to_vector(a)\n",
    "    datasets[1,i]=feature_to_vector(b)"
   ]
  },
  {
   "cell_type": "code",
   "execution_count": 9,
   "metadata": {},
   "outputs": [],
   "source": [
    "def run_ML(X,y,n_splits=5,n_repeats=10):\n",
    "    \"\"\"\n",
    "    Input feature matrix X (TCRs as rows, features as columns)\n",
    "    Output prediction accuraacy for trained ensemble machine learning algorithm on test set\n",
    "    \"\"\"\n",
    "    kfolds = RepeatedStratifiedKFold(n_splits=n_splits, n_repeats=n_repeats)\n",
    "    accuracy=[]\n",
    "    for train_index, test_index in kfolds.split(X, y):\n",
    "        X_train,y_train=X[train_index],y[train_index]\n",
    "        N=int(len(np.where(y_train==1)[0]))\n",
    "        train_index=np.hstack((np.random.permutation(np.where(y_train==0)[0])[:N],np.random.permutation(np.where(y_train==1)[0])[:N]))\n",
    "        X_train,y_train=X_train[train_index],y_train[train_index]\n",
    "        clf1 = LogisticRegression(solver='lbfgs',max_iter=1000)\n",
    "        clf2 = svm.SVC(kernel = 'poly',degree=1,probability=True)\n",
    "        clf3 = MLPClassifier(hidden_layer_sizes=(19,11),alpha=0.125,max_iter=1000)\n",
    "        clf = VotingClassifier(estimators=[('lr', clf1),('rfc', clf2),('mlp', clf3)],voting='soft')\n",
    "        clf.fit(X_train,y_train)\n",
    "\n",
    "        X_test,y_test=X[test_index],y[test_index]\n",
    "        N=int(len(np.where(y_test==1)[0]))\n",
    "        test_index=np.hstack((np.random.permutation(np.where(y_test==0)[0])[:N],np.random.permutation(np.where(y_test==1)[0])[:N]))\n",
    "        X_test,y_test=X_test[test_index],y_test[test_index]\n",
    "        preds=clf.predict(X_test)\n",
    "        accuracy.append(accuracy_score(y_test, preds))\n",
    "    print(stats.ttest_1samp(accuracy,0.5))\n",
    "    return accuracy"
   ]
  },
  {
   "cell_type": "code",
   "execution_count": 10,
   "metadata": {},
   "outputs": [
    {
     "name": "stdout",
     "output_type": "stream",
     "text": [
      "Ttest_1sampResult(statistic=47.37102767605595, pvalue=1.3771131906857418e-42)\n",
      "Ttest_1sampResult(statistic=7.692082037810244, pvalue=5.665078890981171e-10)\n",
      "Ttest_1sampResult(statistic=4.437657937779258, pvalue=5.155399953960142e-05)\n",
      "Ttest_1sampResult(statistic=26.820408416171095, pvalue=6.055936507286592e-31)\n"
     ]
    }
   ],
   "source": [
    "#For each dataset, run ensemble machine learning classifier\n",
    "data=[]\n",
    "for aab_or_abb in [1,2]:\n",
    "    for a_or_b in range(2):\n",
    "        X=np.vstack((datasets[a_or_b,0],datasets[a_or_b,aab_or_abb]))\n",
    "        y=np.hstack(([0]*datasets[a_or_b,0].shape[0],[1]*datasets[a_or_b,aab_or_abb].shape[0]))\n",
    "        combined=np.hstack((X,y.reshape(y.shape[0],1)))\n",
    "        unique_combined=np.array(pd.DataFrame(combined).drop_duplicates(keep=False,subset=np.arange(combined.shape[1]-1)))\n",
    "        X=unique_combined[:,:-1]\n",
    "        y=unique_combined[:,-1]\n",
    "        data.append([a_or_b,aab_or_abb,run_ML(X,y,n_splits=5,n_repeats=10)])"
   ]
  },
  {
   "cell_type": "code",
   "execution_count": 11,
   "metadata": {},
   "outputs": [],
   "source": [
    "def make_boxplot(df):\n",
    "    for x in df:\n",
    "        if x[0]==0 and x[1]==1:\n",
    "            dtype='a_aab'\n",
    "        elif x[0]==1 and x[1]==1:\n",
    "            dtype='b_aab'\n",
    "        elif x[0]==0 and x[1]==2:\n",
    "            dtype='a_abb'\n",
    "        elif x[0]==1 and x[1]==2:\n",
    "            dtype='b_abb'\n",
    "        for accuracy in x[2]:\n",
    "            try: \n",
    "                data=np.vstack((data,[dtype,accuracy]))\n",
    "            except:\n",
    "                data=[dtype,accuracy]\n",
    "    df=pd.DataFrame(data,columns=['x','y'])\n",
    "    df.y=df.y.astype(float)\n",
    "    sns.boxplot(x='x',y='y',data=df,palette=['cornflowerblue','royalblue','lightcoral','firebrick'])\n",
    "    plt.plot([-5,5],[.5,.5],'--k')\n",
    "    plt.xticks(np.arange(4),[r'$\\alpha \\in \\alpha\\alpha\\beta$',r'$\\beta \\in \\alpha\\alpha\\beta$',   r'$\\alpha \\in \\alpha\\beta\\beta$',r'$\\beta \\in \\alpha\\beta\\beta$'],fontsize=15)\n",
    "    plt.yticks(fontsize=15)\n",
    "    plt.xlim([-.5,3.5])\n",
    "    plt.ylim([.49,.56])\n",
    "    plt.xlabel('')\n",
    "    plt.ylabel('')"
   ]
  },
  {
   "cell_type": "code",
   "execution_count": 12,
   "metadata": {},
   "outputs": [
    {
     "data": {
      "image/png": "[encoded data removed]",
      "text/plain": [
       "<Figure size 432x288 with 1 Axes>"
      ]
     },
     "metadata": {
      "needs_background": "light"
     },
     "output_type": "display_data"
    }
   ],
   "source": [
    "#plot boxplots showing classification accuracy for each dataset\n",
    "make_boxplot(data)"
   ]
  }
 ],
 "metadata": {
  "kernelspec": {
   "display_name": "Python 3",
   "language": "python",
   "name": "python3"
  },
  "language_info": {
   "codemirror_mode": {
    "name": "ipython",
    "version": 3
   },
   "file_extension": ".py",
   "mimetype": "text/x-python",
   "name": "python",
   "nbconvert_exporter": "python",
   "pygments_lexer": "ipython3",
   "version": "3.6.8"
  }
 },
 "nbformat": 4,
 "nbformat_minor": 2
}
