{
 "cells": [
  {
   "cell_type": "code",
   "execution_count": 1,
   "metadata": {},
   "outputs": [],
   "source": [
    "import os\n",
    "import matplotlib.pyplot as plt\n",
    "import numpy as np\n",
    "import pandas as pd\n",
    "from scipy import stats\n",
    "import seaborn as sns"
   ]
  },
  {
   "cell_type": "code",
   "execution_count": 2,
   "metadata": {},
   "outputs": [],
   "source": [
    "ab=pd.read_pickle('../../Data/AB.pkl')\n",
    "aab=pd.read_pickle('../../Data/AAB.pkl')\n",
    "abb=pd.read_pickle('../../Data/ABB.pkl')"
   ]
  },
  {
   "cell_type": "code",
   "execution_count": 3,
   "metadata": {},
   "outputs": [],
   "source": [
    "vdjdb=pd.DataFrame(np.genfromtxt('../../Data/VDJdb.txt',delimiter='\\t',dtype='unicode',autostrip=True))\n",
    "vdjdb.columns=vdjdb.iloc[0]\n",
    "vdjdb=vdjdb.iloc[1:]"
   ]
  },
  {
   "cell_type": "code",
   "execution_count": 4,
   "metadata": {},
   "outputs": [],
   "source": [
    "def truncate_germline_names(data):    \n",
    "    \"\"\"\n",
    "    Prepare gerlmine names s.t. the format matches the V/J region names provided names\n",
    "    \"\"\"\n",
    "    if 'A' in data:\n",
    "        which='A'\n",
    "    else:\n",
    "        which='B'\n",
    "    if '*' in data:\n",
    "        value=data[data.find(which)+2:data.find('*')]\n",
    "    else:\n",
    "        value=data[data.find(which)+2:]\n",
    "    return value"
   ]
  },
  {
   "cell_type": "code",
   "execution_count": 5,
   "metadata": {},
   "outputs": [],
   "source": [
    "vdjdb.V=list(map(truncate_germline_names,vdjdb.V))\n",
    "vdjdb.J=list(map(truncate_germline_names,vdjdb.J))\n",
    "chain=[]\n",
    "for x in vdjdb.Gene:\n",
    "    if x=='TRA':\n",
    "        chain.append('Alpha')\n",
    "    elif x=='TRB':\n",
    "        chain.append('Beta')\n",
    "vdjdb['chain']=chain\n",
    "vdjdb['Clonotype']=vdjdb.CDR3+vdjdb.chain\n",
    "vdjdb=vdjdb.drop_duplicates()"
   ]
  },
  {
   "cell_type": "code",
   "execution_count": 6,
   "metadata": {},
   "outputs": [],
   "source": [
    "def find_known_tcrs(df,chain):\n",
    "    Vs=list(map(truncate_germline_names,df[chain+'_V']))\n",
    "    Js=list(map(truncate_germline_names,df[chain+'_J']))\n",
    "    CDR3=df[chain+'_aaSeqCDR3']\n",
    "    if chain[0]=='a':\n",
    "        chain='Alpha'\n",
    "    else:\n",
    "        chain='Beta'\n",
    "    clonotypes=CDR3+chain\n",
    "    overlapping=np.intersect1d(clonotypes,vdjdb.Clonotype)\n",
    "    return np.array([ 1 if x in overlapping else 0 for x in clonotypes ])"
   ]
  },
  {
   "cell_type": "code",
   "execution_count": 7,
   "metadata": {},
   "outputs": [],
   "source": [
    "ab['Count']=find_known_tcrs(ab,'a1')+find_known_tcrs(ab,'b1')\n",
    "aab['Count']=find_known_tcrs(aab,'a1')+find_known_tcrs(aab,'a2')+find_known_tcrs(aab,'b1')\n",
    "abb['Count']=find_known_tcrs(abb,'a1')+find_known_tcrs(abb,'b1')+find_known_tcrs(abb,'b2')"
   ]
  },
  {
   "cell_type": "code",
   "execution_count": 8,
   "metadata": {},
   "outputs": [],
   "source": [
    "data=[]\n",
    "for x in ab.subject.unique():\n",
    "    for i,df in enumerate([ab,aab,abb]):\n",
    "        if ab[ab.subject==x].shape[0]>10000:\n",
    "            freq=np.unique(df[df.subject==x].Count,return_counts=1)[1]/df[df.subject==x].shape[0]\n",
    "            freqs=np.zeros(4)\n",
    "            freqs[:len(freq)]=freq\n",
    "            data.append(np.hstack((x,i,freqs)))\n",
    "   "
   ]
  },
  {
   "cell_type": "code",
   "execution_count": 9,
   "metadata": {},
   "outputs": [],
   "source": [
    "df=pd.DataFrame(data,columns=['Subject','Dataset','0','1','2','3']).melt(id_vars=['Subject','Dataset'], value_vars=['0', '1','2','3'])"
   ]
  },
  {
   "cell_type": "code",
   "execution_count": 10,
   "metadata": {},
   "outputs": [
    {
     "data": {
      "image/png": "[encoded data removed]",
      "text/plain": [
       "<Figure size 360x360 with 1 Axes>"
      ]
     },
     "metadata": {
      "needs_background": "light"
     },
     "output_type": "display_data"
    }
   ],
   "source": [
    "a4_dims = (5,5)\n",
    "fig, ax = plt.subplots(figsize=a4_dims)      \n",
    "sns.barplot(x='variable',y='value',hue='Dataset',data=df[df.variable!='0'],palette=['Gray','Dodgerblue','Salmon'],ci=68)\n",
    "sns.despine()\n",
    "plt.yscale('log')\n",
    "sns.despine()\n",
    "plt.yticks(fontsize=20)\n",
    "plt.xticks(np.arange(3),np.arange(1,4),fontsize=25)\n",
    "plt.xlabel('')\n",
    "plt.ylabel('')  \n",
    "plt.tight_layout()\n",
    "plt.legend('')\n",
    "\n",
    "\n",
    "plt.show()\n",
    "plt.close()"
   ]
  }
 ],
 "metadata": {
  "kernelspec": {
   "display_name": "Python 3",
   "language": "python",
   "name": "python3"
  },
  "language_info": {
   "codemirror_mode": {
    "name": "ipython",
    "version": 3
   },
   "file_extension": ".py",
   "mimetype": "text/x-python",
   "name": "python",
   "nbconvert_exporter": "python",
   "pygments_lexer": "ipython3",
   "version": "3.6.8"
  }
 },
 "nbformat": 4,
 "nbformat_minor": 2
}
