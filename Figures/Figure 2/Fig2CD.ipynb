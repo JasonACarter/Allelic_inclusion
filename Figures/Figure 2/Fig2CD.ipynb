{
 "cells": [
  {
   "cell_type": "code",
   "execution_count": 1,
   "metadata": {},
   "outputs": [],
   "source": [
    "import sys\n",
    "import numpy as np\n",
    "import pandas as pd\n",
    "from matplotlib import pyplot as plt\n",
    "sys.path.append('../../Model')\n",
    "from Inclusion import Inclusion"
   ]
  },
  {
   "cell_type": "code",
   "execution_count": 2,
   "metadata": {},
   "outputs": [],
   "source": [
    "a=pd.read_pickle('../../Data/Plate_Alpha.pkl')\n",
    "b=pd.read_pickle('../../Data/Plate_Beta.pkl')"
   ]
  },
  {
   "cell_type": "code",
   "execution_count": 3,
   "metadata": {},
   "outputs": [
    {
     "name": "stdout",
     "output_type": "stream",
     "text": [
      "Alpha\n",
      " Inclusion rate: 0.12382532281205166 +/- 0.027191075678130554\n",
      " Capture efficiency: 0.8645833333333334 +/- 0.022097086912079584\n",
      "Efficiency per plate: [0.8854166666666666, 0.8541666666666666, 0.8854166666666666, 0.8333333333333334]\n",
      "\n",
      "\n",
      "Beta\n",
      " Inclusion rate: 0.011396290491118077 +/- 0.013917670278590548\n",
      " Capture efficiency: 0.8828125 +/- 0.04125775916081994\n",
      "Efficiency per plate: [0.8958333333333334, 0.90625, 0.9166666666666666, 0.8125]\n",
      "\n",
      "\n"
     ]
    }
   ],
   "source": [
    "#Calculate inclusion rate for each plate\n",
    "labels=['Alpha','Beta']\n",
    "plate_data=[]\n",
    "for i,df in enumerate([a,b]):\n",
    "    data=[]\n",
    "    efficiency=[]\n",
    "    for x in df.Plate.unique(): #For each plate\n",
    "        plate=df[df.Plate==x]\n",
    "        singles=np.unique(plate['Productive'],return_counts=1)[1][1] #wells with 1 productive TCR\n",
    "        try:\n",
    "            doubles=np.unique(plate['Productive'],return_counts=1)[1][2] #wells with 2 productive TCRs\n",
    "        except:\n",
    "            doubles=0 #Case that a plate has no wells with 2 TCRs\n",
    "        data.append(doubles/(singles+doubles)) #allelic inclusion frequency \n",
    "        efficiency.append((singles+doubles)/96) #percentage of wells with >=1 productive TCR\n",
    "    plate_data.append(data)\n",
    "    print(labels[i])\n",
    "    print(f\" Inclusion rate: {np.mean(data)} +/- {np.std(data)}\")\n",
    "    print(f\" Capture efficiency: {np.mean(efficiency)} +/- {np.std(efficiency)}\")\n",
    "    print(f\"Efficiency per plate: {efficiency}\")\n",
    "    print('\\n')"
   ]
  },
  {
   "cell_type": "code",
   "execution_count": 4,
   "metadata": {},
   "outputs": [],
   "source": [
    "#import allelic inclusion data\n",
    "a=np.load('../../Data/Alpha_distribution.npy')\n",
    "b=np.load('../../Data/Beta_distribution.npy')\n",
    "alphas=pd.DataFrame(a,columns=['S'+str(x) for x in range(1,a.shape[1]+1)]).iloc[:12]\n",
    "betas=pd.DataFrame(b,columns=['S'+str(x) for x in range(1,a.shape[1]+1)]).iloc[:12]"
   ]
  },
  {
   "cell_type": "code",
   "execution_count": 5,
   "metadata": {},
   "outputs": [
    {
     "name": "stdout",
     "output_type": "stream",
     "text": [
      "Experimental paired distribution specificed. \n",
      "\n",
      "MAP Estimates:\n",
      "la: 0.026 (0.016,0.044)\n",
      "ga: 3.806 (3.774,3.861)\n",
      "f_a: 0.139 (0.131,0.151)\n",
      "s_a: 0.310 (0.307,0.316)\n",
      "f_b: 0.010 (0.003,0.019)\n",
      "s_b: 0.097 (0.095,0.101)\n"
     ]
    }
   ],
   "source": [
    "#Run allelic inclusion model for S8\n",
    "counts_alpha=np.array(alphas['S8'])\n",
    "counts_beta=np.array(betas['S8'])\n",
    "df=Inclusion(alpha=counts_alpha,beta=counts_beta)\n",
    "alpha_map=df.return_map[2]\n",
    "beta_map=df.return_map[4]\n",
    "alpha_lower=df.return_map_interval_lower[2]\n",
    "beta_lower=df.return_map_interval_lower[4]\n",
    "alpha_upper=df.return_map_interval_upper[2]\n",
    "beta_upper=df.return_map_interval_upper[4]"
   ]
  },
  {
   "cell_type": "code",
   "execution_count": 6,
   "metadata": {},
   "outputs": [],
   "source": [
    "#Transform data for plotting\n",
    "all_data=[]\n",
    "all_data.append([alpha_map,alpha_lower,alpha_upper,'Alpha','model'])\n",
    "all_data.append([np.mean(plate_data[0]),np.mean(plate_data[0])-np.std(plate_data[0]),np.mean(plate_data[0])+np.std(plate_data[0]),'Alpha','plate'])\n",
    "all_data.append([beta_map,beta_lower,beta_upper,'Beta','model'])\n",
    "all_data.append([np.mean(plate_data[1]),np.mean(plate_data[1])-np.std(plate_data[1]),np.mean(plate_data[1])+np.std(plate_data[1]),'Beta','plate'])\n",
    "all_data=pd.DataFrame(all_data,columns=['Mean','Lower','Upper','Chain','Method'])\n",
    "all_data[['Mean','Lower','Upper']]=all_data[['Mean','Lower','Upper']].astype(float)*100"
   ]
  },
  {
   "cell_type": "code",
   "execution_count": 7,
   "metadata": {},
   "outputs": [
    {
     "data": {
      "image/png": "[encoded data removed]",
      "text/plain": [
       "<Figure size 432x288 with 1 Axes>"
      ]
     },
     "metadata": {
      "needs_background": "light"
     },
     "output_type": "display_data"
    }
   ],
   "source": [
    "plt.bar([0,.5,1.1,1.6],all_data.Mean,color=['DarkGray','Gray'],alpha=0.75,width=0.5)\n",
    "plt.errorbar([0,.5,1.1,1.6],all_data.Mean,yerr=[all_data.Mean-all_data.Lower,all_data.Upper-all_data.Mean],fmt='o', ecolor='black',markersize=0,markeredgecolor='gray', markerfacecolor='gray',capthick=2)\n",
    "plt.ylim([0,18])\n",
    "plt.yticks(fontsize=20)\n",
    "plt.xticks([.25,1.35],[r'$\\alpha$',r'$\\beta$'],fontsize=25)\n",
    "plt.show()\n",
    "plt.close()"
   ]
  }
 ],
 "metadata": {
  "kernelspec": {
   "display_name": "Python 3",
   "language": "python",
   "name": "python3"
  },
  "language_info": {
   "codemirror_mode": {
    "name": "ipython",
    "version": 3
   },
   "file_extension": ".py",
   "mimetype": "text/x-python",
   "name": "python",
   "nbconvert_exporter": "python",
   "pygments_lexer": "ipython3",
   "version": "3.6.8"
  }
 },
 "nbformat": 4,
 "nbformat_minor": 2
}
