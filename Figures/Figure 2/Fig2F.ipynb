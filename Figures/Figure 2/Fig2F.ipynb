{
 "cells": [
  {
   "cell_type": "code",
   "execution_count": 1,
   "metadata": {},
   "outputs": [],
   "source": [
    "import numpy as np\n",
    "import pandas as pd\n",
    "from matplotlib import pyplot as plt\n",
    "import seaborn as sns\n",
    "from scipy import stats"
   ]
  },
  {
   "cell_type": "code",
   "execution_count": 2,
   "metadata": {},
   "outputs": [],
   "source": [
    "ab=pd.read_pickle('../../Data/AB.pkl')\n",
    "aab=pd.read_pickle('../../Data/AAB.pkl')"
   ]
  },
  {
   "cell_type": "code",
   "execution_count": 3,
   "metadata": {},
   "outputs": [],
   "source": [
    "def truncate_germline_names(data):    \n",
    "    \"\"\"\n",
    "    Prepare gerlmine names s.t. the format matches the V/J region names provided names\n",
    "    \"\"\"\n",
    "    beta_v_order=np.array(['1','2','3-1','4-1','5-1','6-1','7-1','4-2','6-2','3-2','4-3','6-3','7-2','8-1','5-2','6-4','7-3','8-2','5-3','9','10-1','11-1','12-1','10-2','11-2','12-2','6-5','7-4','5-4','6-6','7-5','5-5','6-7','7-6','5-6','6-8','7-7','5-7','6-9','7-8','5-8','7-9','13','10-3','11-3','12-3','12-4','12-5','14','15','16','17','18','19','20-1','21-1','22-1','23-1','24-1','25-1','26','27','28','29-1','30'])\n",
    "    alpha_v_order=np.array(['1-1','1-2','2','3','4','5','6','7','8-1','9-1','10','11','12-1','8-2','8-3','13-1','12-2','8-4','8-5','13-2','14DV4','9-2','15','12-3','8-6','16','17','18','19','20','21','22','23DV6','24','25','26-1','8-7','27','28','29DV5','30','31','32','33','26-2','34','35','36DV7','37','38-1','38-2DV8','39','40','41'])\n",
    "    beta_j_order=np.array(['1-1','1-2','1-3','1-4','1-5','1-6','2-1','2-2','2-2P','2-3','2-4','2-5','2-6','2-7'])\n",
    "    alpha_j_order=np.array(list(map(str,range(1,62))))\n",
    "\n",
    "    if 'A' in data:\n",
    "        which='A'\n",
    "        if 'V' in data:\n",
    "            order=alpha_v_order\n",
    "        else:\n",
    "            order=alpha_j_order\n",
    "    else:\n",
    "        which='B'\n",
    "        if 'V' in data:\n",
    "            order=beta_v_order\n",
    "        else:\n",
    "            order=beta_j_order\n",
    "         \n",
    "    if '*' in data:\n",
    "        value=data[data.find(which)+2:data.find('*')]\n",
    "    else:\n",
    "        value=data[data.find(which)+2:]\n",
    "    \n",
    "    return value"
   ]
  },
  {
   "cell_type": "code",
   "execution_count": 4,
   "metadata": {},
   "outputs": [
    {
     "name": "stderr",
     "output_type": "stream",
     "text": [
      "/anaconda3/lib/python3.6/site-packages/ipykernel_launcher.py:1: UserWarning: Boolean Series key will be reindexed to match DataFrame index.\n",
      "  \"\"\"Entry point for launching an IPython kernel.\n"
     ]
    }
   ],
   "source": [
    "df=aab[ab.subject==8][['a1_V','a2_V']]\n",
    "df.a1_V=list(map(truncate_germline_names,df.a1_V))\n",
    "df.a2_V=list(map(truncate_germline_names,df.a2_V))"
   ]
  },
  {
   "cell_type": "code",
   "execution_count": 5,
   "metadata": {},
   "outputs": [],
   "source": [
    "aab_12_2=df[(df.a1_V.isin(['12-1'])) & (df.a2_V.isin(['2']))].shape[0]+df[(df.a1_V.isin(['2'])) & (df.a2_V.isin(['12-1']))].shape[0]\n",
    "aab_12_24=df[(df.a1_V.isin(['12-1'])) & (df.a2_V.isin(['24']))].shape[0]+df[(df.a1_V.isin(['24'])) & (df.a2_V.isin(['12-1']))].shape[0]\n",
    "aab_2_24=df[(df.a1_V.isin(['2'])) & (df.a2_V.isin(['24']))].shape[0]+df[(df.a1_V.isin(['24'])) & (df.a2_V.isin(['2']))].shape[0]"
   ]
  },
  {
   "cell_type": "code",
   "execution_count": 6,
   "metadata": {},
   "outputs": [],
   "source": [
    "df=ab[ab.subject==8][['a1_V']]\n",
    "df.a1_V=list(map(truncate_germline_names,df.a1_V))"
   ]
  },
  {
   "cell_type": "code",
   "execution_count": 7,
   "metadata": {},
   "outputs": [],
   "source": [
    "ab_12=df[df.a1_V.isin(['12-1'])].shape[0]\n",
    "ab_24=df[df.a1_V.isin(['24'])].shape[0]\n",
    "ab_2=df[df.a1_V.isin(['2'])].shape[0]"
   ]
  },
  {
   "cell_type": "code",
   "execution_count": 8,
   "metadata": {},
   "outputs": [],
   "source": [
    "flow_data=np.array([.9,.4,.3])\n",
    "seq_data=np.array([aab_12_2/(ab_12+ab_2),aab_12_24/(ab_12+ab_24),aab_2_24/(ab_2+ab_24)])*100\n",
    "data=np.vstack((seq_data,flow_data)).T.astype(float)"
   ]
  },
  {
   "cell_type": "code",
   "execution_count": 9,
   "metadata": {},
   "outputs": [
    {
     "data": {
      "image/png": "[encoded data removed]",
      "text/plain": [
       "<Figure size 432x288 with 1 Axes>"
      ]
     },
     "metadata": {
      "needs_background": "light"
     },
     "output_type": "display_data"
    },
    {
     "name": "stdout",
     "output_type": "stream",
     "text": [
      "Ttest_relResult(statistic=0.2697435885771039, pvalue=0.8126401830673401)\n"
     ]
    }
   ],
   "source": [
    "sns.barplot(x='variable',y='value',data=pd.DataFrame(data).melt(),palette=['DarkGray','Gray'],alpha=.75,ci='sd')\n",
    "plt.xticks(np.arange(2),['mRNA','Protein'],fontsize=25)\n",
    "plt.yticks(fontsize=20)\n",
    "plt.ylim([0,1.3])\n",
    "plt.ylabel('')\n",
    "plt.xlabel('')\n",
    "plt.show()\n",
    "plt.close()\n",
    "print(stats.ttest_rel(data[:,0],data[:,1]))"
   ]
  },
  {
   "cell_type": "code",
   "execution_count": 10,
   "metadata": {},
   "outputs": [
    {
     "data": {
      "image/png": "[encoded data removed]",
      "text/plain": [
       "<Figure size 432x288 with 2 Axes>"
      ]
     },
     "metadata": {
      "needs_background": "light"
     },
     "output_type": "display_data"
    }
   ],
   "source": [
    "f, (ax, ax2) = plt.subplots(2, 1, sharex=True)\n",
    "sns.despine()\n",
    "ax.plot([0,.5],[1.12,.9],'--k',marker='o',label='12-1,2',)\n",
    "ax2.plot([0,.5],[.42,.4],'--',color='Gray',marker='o',label='12-1,24')\n",
    "ax2.plot([0,.5],[.33,.3],'--',color='DarkGray',marker='o',label='24,2')\n",
    "ax.set_ylim(.85, 1.15) \n",
    "ax2.set_ylim(0.25, .45)\n",
    "ax.set_xlim([-.1, .6]) \n",
    "ax2.set_xlim([-.1, .6])\n",
    "ax.spines['bottom'].set_visible(False)\n",
    "ax2.spines['top'].set_visible(False)\n",
    "ax.xaxis.tick_top()\n",
    "ax.tick_params(labeltop=0)\n",
    "ax.yaxis.set_tick_params(labelsize=15)\n",
    "ax2.yaxis.set_tick_params(labelsize=15)\n",
    "plt.xticks([0,.5],['mRNA','Protein'],fontsize=20)\n",
    "d = .015  \n",
    "kwargs = dict(transform=ax.transAxes, color='k', clip_on=False)\n",
    "ax.plot((-d, +d), (-d, +d), **kwargs)      \n",
    "kwargs.update(transform=ax2.transAxes)  \n",
    "ax2.plot((-d, +d), (1 - d, 1 + d), **kwargs) \n",
    "plt.tight_layout()\n",
    "plt.savefig('{}.eps'.format('/Users/jac/Documents/Allelic_Inclusion_Figures/Fig2F'),format='eps', dpi=1200,transparent=True)\n",
    "plt.show()\n",
    "plt.close()"
   ]
  },
  {
   "cell_type": "code",
   "execution_count": null,
   "metadata": {},
   "outputs": [],
   "source": []
  }
 ],
 "metadata": {
  "kernelspec": {
   "display_name": "Python 3",
   "language": "python",
   "name": "python3"
  },
  "language_info": {
   "codemirror_mode": {
    "name": "ipython",
    "version": 3
   },
   "file_extension": ".py",
   "mimetype": "text/x-python",
   "name": "python",
   "nbconvert_exporter": "python",
   "pygments_lexer": "ipython3",
   "version": "3.6.8"
  }
 },
 "nbformat": 4,
 "nbformat_minor": 2
}
